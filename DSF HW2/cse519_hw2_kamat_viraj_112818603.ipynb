{
  "nbformat": 4,
  "nbformat_minor": 0,
  "metadata": {
    "colab": {
      "name": "hw2.ipynb",
      "provenance": [],
      "collapsed_sections": [],
      "machine_shape": "hm"
    },
    "kernelspec": {
      "name": "python3",
      "display_name": "Python 3"
    },
    "accelerator": "GPU"
  },
  "cells": [
    {
      "cell_type": "markdown",
      "metadata": {
        "id": "GNqyXC7YtJ1H",
        "colab_type": "text"
      },
      "source": [
        "# Homework 2 - IEEE Fraud Detection"
      ]
    },
    {
      "cell_type": "markdown",
      "metadata": {
        "id": "0fR-Jnn-9yOW",
        "colab_type": "text"
      },
      "source": [
        "**Part 1 - Fraudulent vs Non-Fraudulent Transaction** \n",
        "\n",
        "---\n",
        "\n",
        "\n",
        "\n"
      ]
    },
    {
      "cell_type": "code",
      "metadata": {
        "id": "wJP5XY9N9ybC",
        "colab_type": "code",
        "outputId": "7096d421-cd4f-49b2-9417-f7ff7d16fb15",
        "colab": {
          "base_uri": "https://localhost:8080/",
          "height": 674
        }
      },
      "source": [
        "from google.colab import drive\n",
        "#import logging\n",
        "from datetime import datetime\n",
        "#drive.mount('/content/drive')\n",
        "import pandas as pd\n",
        "import numpy as np\n",
        "pd.set_option('display.max_columns', None) #https://stackoverflow.com/questions/28775813/not-able-to-view-all-columns-in-pandas-data-frame\n",
        "import matplotlib.pyplot as plt\n",
        "csv_data =  pd.read_csv('/content/drive/My Drive/train_transaction.csv',index_col='TransactionID') #Loading content from google drive\n",
        "csv_data = csv_data.loc[:,'isFraud':'dist2']\n",
        "id_data = pd.read_csv('/content/drive/My Drive/train_identity.csv',index_col='TransactionID')\n",
        "id_data = id_data.loc[:,['id_30','id_31','DeviceType','DeviceInfo']]\n",
        "\n",
        "csv_data = csv_data.join(id_data)  #https://stackoverflow.com/questions/40468069/merge-two-dataframes-by-index\n",
        "csv_data['TransactionDT'] = csv_data['TransactionDT'].apply(lambda x : datetime.fromtimestamp(x))\n",
        "csv_data['hour'] = csv_data['TransactionDT'].dt.hour+csv_data['TransactionDT'].dt.minute/60\n",
        "\n",
        "cleanup = ['card1','card2','card3','card5','card6','dist1','dist2','addr1','addr2']\n",
        "for col in cleanup :\n",
        "  csv_data[col] = csv_data[col].fillna(0)\n",
        "cleanup_2 = ['id_30','id_31','DeviceType','DeviceInfo']\n",
        "for col in cleanup_2 :\n",
        "  csv_data[col] = csv_data[col].fillna('N/A')\n",
        "  \n",
        "  \n",
        "fig, axes = plt.subplots(5, 2) \n",
        "fraud = csv_data[csv_data['isFraud'] == 1]\n",
        "notfraud = csv_data[csv_data['isFraud'] == 0]\n",
        "\n",
        "fraud_counts = fraud['DeviceType'].value_counts()\n",
        "notfraud_counts = notfraud['DeviceType'].value_counts()\n",
        "\n",
        "\n",
        "fraud_counts.plot.bar(ax=axes[0][0],figsize=(50,50))\n",
        "notfraud_counts.plot.bar(ax=axes[0][1],figsize=(50,50))\n",
        "\n",
        "fraudamt = fraud.loc[:,'TransactionAmt']\n",
        "notfraudamt = notfraud.loc[:,'TransactionAmt']\n",
        "fraudamt.hist( bins=np.arange(0,3000,10), ax=axes[1][0],figsize=(10,10))\n",
        "notfraudamt.hist( bins=np.arange(0,3000,10), ax=axes[1][1],figsize=(10,10))\n",
        "\n",
        "fraud_codes = fraud['ProductCD'].value_counts()\n",
        "notfraud_codes = notfraud['ProductCD'].value_counts()\n",
        "fraud_codes.plot.bar(ax=axes[2][0],figsize=(10,10))\n",
        "notfraud_codes.plot.bar(ax=axes[2][1],figsize=(10,10))\n",
        "\n",
        "\n",
        "fraud_cards = fraud['card4'].value_counts()\n",
        "notfraud_cards = notfraud['card4'].value_counts()\n",
        "fraud_cards.plot.bar(ax=axes[3][0],figsize=(10,10))\n",
        "notfraud_cards.plot.bar(ax=axes[3][1],figsize=(10,10))\n",
        "\n",
        "\n",
        "fraud_cd = fraud['card6'].value_counts()\n",
        "notfraud_cd = notfraud['card6'].value_counts()\n",
        "fraud_cd.plot.bar(ax=axes[4][0],figsize=(10,10))\n",
        "notfraud_cd.plot.bar(ax=axes[4][1],figsize=(10,10))\n",
        "\n",
        "\n",
        "\n",
        "\n",
        "\n",
        "\n",
        "\n",
        "\n",
        "\n"
      ],
      "execution_count": 0,
      "outputs": [
        {
          "output_type": "execute_result",
          "data": {
            "text/plain": [
              "<matplotlib.axes._subplots.AxesSubplot at 0x7f31757666d8>"
            ]
          },
          "metadata": {
            "tags": []
          },
          "execution_count": 2
        },
        {
          "output_type": "display_data",
          "data": {
            "image/png": "[encoded data removed]",
            "text/plain": [
              "<Figure size 720x720 with 10 Axes>"
            ]
          },
          "metadata": {
            "tags": []
          }
        }
      ]
    },
    {
      "cell_type": "markdown",
      "metadata": {
        "id": "VtbYh3QVkzvm",
        "colab_type": "text"
      },
      "source": [
        "*Conclusion*: In the above comparison of results of fraudulent vs non-fraudulent we can see the following (Fraudulent dataset is in the left column )\n",
        "\n",
        "1.   Non-Fraudulent transactions were limited to an amount of 1000-1200 . Fraudulent transactions on the other hand showed a spike at 1000 ,with transactions crossing into  1500 . This suggests that Fraudulent transactions were mainly high value purchases with amounts ranging between 1000-1500 . While Non-Fraudulent transactions did have purchases in that range, the Fraudulent transactions showed a higher probability in that range.\n",
        "\n",
        "2.   The productcode W andC seem to be targeted a lot in Fraudulent transactions. While in Non-Fraudulent transactions the productcd is purchased, there is a higher likelyhood of a Fraudulent transaction if its in the ProductCode W or C.\n",
        "\n",
        "\n",
        "\n"
      ]
    },
    {
      "cell_type": "markdown",
      "metadata": {
        "id": "uJa7Y5ZNj3pz",
        "colab_type": "text"
      },
      "source": [
        "**Part 2 - Transaction Frequency**"
      ]
    },
    {
      "cell_type": "code",
      "metadata": {
        "id": "wrafbzM4j5RF",
        "colab_type": "code",
        "outputId": "2e63e798-7836-474c-93d3-f06f97b9951c",
        "colab": {
          "base_uri": "https://localhost:8080/",
          "height": 316
        }
      },
      "source": [
        "from google.colab import drive\n",
        "import logging\n",
        "from datetime import datetime\n",
        "#drive.mount('/content/drive')\n",
        "import pandas as pd\n",
        "import matplotlib.pyplot as plt\n",
        "csv_data =  pd.read_csv('/content/drive/My Drive/train_transaction.csv') #Loading content from google drive\n",
        "\n",
        "\n",
        "logging.info(\"Calculate the date from timestamp.\")\n",
        "csv_data['date'] = csv_data['TransactionDT'].apply(lambda x : datetime.fromtimestamp(x))\n",
        "csv_data['hour'] = csv_data['date'].dt.hour+csv_data['date'].dt.minute/60\n",
        "csv_data['min'] = csv_data['date'].dt.minute\n",
        "csv_data['secs'] = csv_data['date'].dt.second\n",
        "\n",
        "csv_data = csv_data.loc[:,[\"addr2\",\"TransactionDT\",\"hour\",\"min\",\"secs\"]]\n",
        "mode = csv_data.mode()\n",
        "csv_data = csv_data[csv_data['addr2'] == int(mode['addr2'])]\n",
        "freq = csv_data['hour'].value_counts()\n",
        "\n",
        "\n",
        "#From the plot the sleeping hours are between 5-11\n",
        "csv_data = csv_data.loc[:,[\"hour\"]]\n",
        "csv_data.hist(bins=np.arange(0,23,0.5))\n",
        "\n",
        "\n",
        "\n",
        "\n",
        "\n",
        "\n"
      ],
      "execution_count": 0,
      "outputs": [
        {
          "output_type": "execute_result",
          "data": {
            "text/plain": [
              "array([[<matplotlib.axes._subplots.AxesSubplot object at 0x7f31750069b0>]],\n",
              "      dtype=object)"
            ]
          },
          "metadata": {
            "tags": []
          },
          "execution_count": 3
        },
        {
          "output_type": "display_data",
          "data": {
            "image/png": "[encoded data removed]",
            "text/plain": [
              "<Figure size 432x288 with 1 Axes>"
            ]
          },
          "metadata": {
            "tags": []
          }
        }
      ]
    },
    {
      "cell_type": "markdown",
      "metadata": {
        "id": "e00p9SYxkz21",
        "colab_type": "text"
      },
      "source": [
        "Conclusion: The most frequent country is the country with the code 87. The waking hours associated with this country (not accounting the timezone) is between 15:00 and 4:00. While this inaccurate, we may need further information on the timezone to better deliver the results."
      ]
    },
    {
      "cell_type": "markdown",
      "metadata": {
        "id": "GRapGtJxjvJl",
        "colab_type": "text"
      },
      "source": [
        "**Part 3 - Product Code**"
      ]
    },
    {
      "cell_type": "code",
      "metadata": {
        "colab_type": "code",
        "id": "VozXfnZLd6Q5",
        "cellView": "code",
        "outputId": "9db993a7-9a34-45b3-a6af-354c81c68d7b",
        "colab": {
          "base_uri": "https://localhost:8080/",
          "height": 1000
        }
      },
      "source": [
        "\n",
        "from google.colab import drive\n",
        "import matplotlib.pyplot as plt\n",
        "#drive.mount('/content/drive')\n",
        "\n",
        "#!ls '/content/drive/My Drive'\n",
        "\n",
        "import pandas as pd\n",
        "\n",
        "csv_data =  pd.read_csv('/content/drive/My Drive/train_transaction.csv')\n",
        "total_rows = csv_data.shape[0]\n",
        "lim_txs = csv_data.loc[:,['TransactionAmt','ProductCD']]\n",
        "unique_codes= lim_txs['ProductCD'].unique()\n",
        "max_v = lim_txs.nlargest(20000,'TransactionAmt')\n",
        "min_v = lim_txs.nsmallest(20000,'TransactionAmt')\n",
        "max_unique_codes = max_v['ProductCD'].unique()\n",
        "min_unique_codes = min_v['ProductCD'].unique()\n",
        "\n",
        "#fig,axes = plt.subplots(4,2)\n",
        "\n",
        "#The following are plots for each of ProductCD of maximum values\n",
        "i = 0\n",
        "j = 0\n",
        "plt.tight_layout()\n",
        "for item in max_unique_codes :\n",
        "  temp = max_v[max_v['ProductCD'] == item]\n",
        "  temp.hist(bins=np.arange(0,2000,50),figsize=(5,5))\n",
        "  i += 1\n",
        "  plt.suptitle(\"Breakup of transaction amount for ProductCD: \"+item)\n",
        "  \n",
        "i=0 \n",
        "j=1\n",
        "#The following are plots for each of ProductCD of minimum values\n",
        "for item in min_unique_codes :\n",
        "  temp = min_v[min_v['ProductCD'] == item]\n",
        "  temp.hist(bins=np.arange(0,100,1),figsize=(5,5))\n",
        "  i+=1\n",
        "  plt.suptitle(\"Breakup of transaction amount for ProductCD: \"+item)\n"
      ],
      "execution_count": 0,
      "outputs": [
        {
          "output_type": "display_data",
          "data": {
            "text/plain": [
              "<Figure size 432x288 with 0 Axes>"
            ]
          },
          "metadata": {
            "tags": []
          }
        },
        {
          "output_type": "display_data",
          "data": {
            "image/png": "[encoded data removed]",
            "text/plain": [
              "<Figure size 360x360 with 1 Axes>"
            ]
          },
          "metadata": {
            "tags": []
          }
        },
        {
          "output_type": "display_data",
          "data": {
            "image/png": "[encoded data removed]",
            "text/plain": [
              "<Figure size 360x360 with 1 Axes>"
            ]
          },
          "metadata": {
            "tags": []
          }
        },
        {
          "output_type": "display_data",
          "data": {
            "image/png": "[encoded data removed]",
            "text/plain": [
              "<Figure size 360x360 with 1 Axes>"
            ]
          },
          "metadata": {
            "tags": []
          }
        },
        {
          "output_type": "display_data",
          "data": {
            "image/png": "[encoded data removed]",
            "text/plain": [
              "<Figure size 360x360 with 1 Axes>"
            ]
          },
          "metadata": {
            "tags": []
          }
        },
        {
          "output_type": "display_data",
          "data": {
            "image/png": "[encoded data removed]",
            "text/plain": [
              "<Figure size 360x360 with 1 Axes>"
            ]
          },
          "metadata": {
            "tags": []
          }
        },
        {
          "output_type": "display_data",
          "data": {
            "image/png": "[encoded data removed]",
            "text/plain": [
              "<Figure size 360x360 with 1 Axes>"
            ]
          },
          "metadata": {
            "tags": []
          }
        },
        {
          "output_type": "display_data",
          "data": {
            "image/png": "[encoded data removed]",
            "text/plain": [
              "<Figure size 360x360 with 1 Axes>"
            ]
          },
          "metadata": {
            "tags": []
          }
        },
        {
          "output_type": "display_data",
          "data": {
            "image/png": "[encoded data removed]",
            "text/plain": [
              "<Figure size 360x360 with 1 Axes>"
            ]
          },
          "metadata": {
            "tags": []
          }
        }
      ]
    },
    {
      "cell_type": "markdown",
      "metadata": {
        "id": "bDgwDTWzlaf7",
        "colab_type": "text"
      },
      "source": [
        "Conclusion: After sorting the dataframe according to the 20,000 most expensive and 20,000 least expensive products and then plotting the same data per product code on the histogram (For expensive/cheap products) the following is evident\n",
        "\n",
        "\n",
        "1.   Product code W,R and S have the most expensive products, the top two histograms confirms this with the prodcuts being present with a minimum price of 500 and a maximum of 1750 dollars.\n",
        "2.   Product code C,H and S are the cheapest product with a price range from a few cents to 20 dollars. While product W has also shown to have some cheap products. \n",
        "\n"
      ]
    },
    {
      "cell_type": "markdown",
      "metadata": {
        "id": "soZbLSzk5BfY",
        "colab_type": "text"
      },
      "source": [
        "**Part 4 - Correlation Coefficient** "
      ]
    },
    {
      "cell_type": "code",
      "metadata": {
        "id": "Hzqz9is_5Bue",
        "colab_type": "code",
        "outputId": "aa63c4d1-8793-43cf-9ebe-d77d06c2f21a",
        "colab": {
          "base_uri": "https://localhost:8080/",
          "height": 106
        }
      },
      "source": [
        "from google.colab import drive\n",
        "import logging\n",
        "from datetime import datetime\n",
        "#drive.mount('/content/drive')\n",
        "import pandas as pd\n",
        "import matplotlib.pyplot as plt\n",
        "import seaborn as sns\n",
        "import numpy as np\n",
        "csv_data =  pd.read_csv('/content/drive/My Drive/train_transaction.csv') #Loading content from google drive\n",
        "\n",
        "\n",
        "logging.info(\"Calculate the date from timestamp.\")\n",
        "csv_data['date'] = csv_data['TransactionDT'].apply(lambda x : datetime.fromtimestamp(x))\n",
        "#print(csv_data.shape)\n",
        "csv_data['timeofday'] = csv_data['date'].dt.hour.astype(int)\n",
        "csv_data = csv_data.loc[:,['timeofday','TransactionAmt']]\n",
        "#csv_data = csv_data.groupby('timeofday').sum()\n",
        "#print(csv_data.shape)\n",
        "#csv_data.corr()\n",
        "csv_data = csv_data.groupby('timeofday').sum().reset_index()\n",
        "csv_data.corr()\n",
        "\n",
        "\n",
        "\n",
        "\n"
      ],
      "execution_count": 0,
      "outputs": [
        {
          "output_type": "execute_result",
          "data": {
            "text/html": [
              "<div>\n",
              "<style scoped>\n",
              "    .dataframe tbody tr th:only-of-type {\n",
              "        vertical-align: middle;\n",
              "    }\n",
              "\n",
              "    .dataframe tbody tr th {\n",
              "        vertical-align: top;\n",
              "    }\n",
              "\n",
              "    .dataframe thead th {\n",
              "        text-align: right;\n",
              "    }\n",
              "</style>\n",
              "<table border=\"1\" class=\"dataframe\">\n",
              "  <thead>\n",
              "    <tr style=\"text-align: right;\">\n",
              "      <th></th>\n",
              "      <th>timeofday</th>\n",
              "      <th>TransactionAmt</th>\n",
              "    </tr>\n",
              "  </thead>\n",
              "  <tbody>\n",
              "    <tr>\n",
              "      <th>timeofday</th>\n",
              "      <td>1.000000</td>\n",
              "      <td>0.642117</td>\n",
              "    </tr>\n",
              "    <tr>\n",
              "      <th>TransactionAmt</th>\n",
              "      <td>0.642117</td>\n",
              "      <td>1.000000</td>\n",
              "    </tr>\n",
              "  </tbody>\n",
              "</table>\n",
              "</div>"
            ],
            "text/plain": [
              "                timeofday  TransactionAmt\n",
              "timeofday        1.000000        0.642117\n",
              "TransactionAmt   0.642117        1.000000"
            ]
          },
          "metadata": {
            "tags": []
          },
          "execution_count": 5
        }
      ]
    },
    {
      "cell_type": "markdown",
      "metadata": {
        "id": "1VPpCtNylbyI",
        "colab_type": "text"
      },
      "source": [
        "Conclusion: The corelation coefficient is around 0.642 . If we account for a 24 hour format it means that there is lukewarm corelation between the time of the day and the purchase amount. If it was 23:00 local time, its not required that the purchase would be expensive and vice versa."
      ]
    },
    {
      "cell_type": "markdown",
      "metadata": {
        "id": "U2_cu0peZ2AB",
        "colab_type": "text"
      },
      "source": [
        "**Part 5 - Interesting Plot** (In Progress)"
      ]
    },
    {
      "cell_type": "code",
      "metadata": {
        "id": "XReNvs7BwOUP",
        "colab_type": "code",
        "outputId": "4628e0f4-682f-437c-9717-c2f09cb5ebcf",
        "colab": {
          "base_uri": "https://localhost:8080/",
          "height": 614
        }
      },
      "source": [
        "from google.colab import drive\n",
        "#import logging\n",
        "from datetime import datetime\n",
        "import pylab as pl\n",
        "#drive.mount('/content/drive')\n",
        "import pandas as pd\n",
        "pd.set_option('display.max_rows', 500)\n",
        "pd.set_option('display.max_columns', 500)\n",
        "pd.set_option('display.width', 1000)\n",
        "pd.set_option('display.expand_frame_repr', False)\n",
        "import numpy as np\n",
        "import sys\n",
        "pd.set_option('display.max_columns', None) #https://stackoverflow.com/questions/28775813/not-able-to-view-all-columns-in-pandas-data-frame\n",
        "import matplotlib.pyplot as plt\n",
        "csv_data =  pd.read_csv('/content/drive/My Drive/train_transaction.csv',index_col='TransactionID') #Loading content from google drive\n",
        "csv_data = csv_data.loc[:,'isFraud':'dist2']\n",
        "id_data = pd.read_csv('/content/drive/My Drive/train_identity.csv',index_col='TransactionID')\n",
        "id_data = id_data.loc[:,['id_30','id_31','DeviceType','DeviceInfo']]\n",
        "\n",
        "csv_data = csv_data.join(id_data)  #https://stackoverflow.com/questions/40468069/merge-two-dataframes-by-index\n",
        "csv_data['date'] = csv_data['TransactionDT'].apply(lambda x : datetime.fromtimestamp(x))\n",
        "csv_data['monthyear'] = csv_data['date'].apply(lambda x: str(x.year) + str(x.month))\n",
        "mb_data = csv_data.loc[:,['monthyear','DeviceType']]\n",
        "\n",
        "devicetype = mb_data['DeviceType'].unique()\n",
        "mb_data = mb_data.loc[:,['monthyear','DeviceType']].copy()\n",
        "mobile_data = mb_data[mb_data['DeviceType'] == 'mobile']\n",
        "desktop_data = csv_data[mb_data['DeviceType'] == 'desktop']\n",
        "\n",
        "#print(csv_data.head())\n",
        "\n",
        "mobile_data = mobile_data['monthyear'].value_counts().sort_index()\n",
        "desktop_data = desktop_data['monthyear'].value_counts().sort_index()\n",
        "\n",
        "\n",
        "plt.plot([x for x,y in mobile_data.iteritems()],[y1 for x1,y1 in mobile_data.iteritems()])\n",
        "plt.plot([x for x,y in desktop_data.iteritems()],[y1 for x1,y1 in desktop_data.iteritems()])\n",
        "plt.show()   \n",
        "\n",
        "cc_data = csv_data.loc[:,['TransactionAmt','card6']]\n",
        "cc_data = cc_data.dropna()\n",
        "cc_data = cc_data.groupby('card6').mean()\n",
        "\n",
        "cc_data.plot.bar()\n",
        "\n",
        "\n",
        "\n",
        "\n"
      ],
      "execution_count": 0,
      "outputs": [
        {
          "output_type": "display_data",
          "data": {
            "image/png": "[encoded data removed]",
            "text/plain": [
              "<Figure size 432x288 with 1 Axes>"
            ]
          },
          "metadata": {
            "tags": []
          }
        },
        {
          "output_type": "execute_result",
          "data": {
            "text/plain": [
              "<matplotlib.axes._subplots.AxesSubplot at 0x7f4e8fbc7710>"
            ]
          },
          "metadata": {
            "tags": []
          },
          "execution_count": 60
        },
        {
          "output_type": "display_data",
          "data": {
            "image/png": "[encoded data removed]",
            "text/plain": [
              "<Figure size 432x288 with 1 Axes>"
            ]
          },
          "metadata": {
            "tags": []
          }
        }
      ]
    },
    {
      "cell_type": "markdown",
      "metadata": {
        "id": "w9JGnjuBkz_M",
        "colab_type": "text"
      },
      "source": [
        "Conclusion: The first plot is about the number of users over months for mobile and desktop platforms, while it shows a drop in the number of users over time, this could be because the training data is not normally distributed.\n",
        "\n",
        "The second plot shown the mean purchase amount based on the card type, over here credit cards had the highest mean purchase amount, signifying that most users made high expense purchses through credit cards possibly because it made it easier to pay later."
      ]
    },
    {
      "cell_type": "markdown",
      "metadata": {
        "id": "Jrsotc2DlizP",
        "colab_type": "text"
      },
      "source": [
        "**Part 6 - Prediction Model**"
      ]
    },
    {
      "cell_type": "code",
      "metadata": {
        "id": "HIOOJ2XelkYL",
        "colab_type": "code",
        "outputId": "fd4a8b62-3e5b-4c3e-beda-bea07dd97dc4",
        "colab": {
          "base_uri": "https://localhost:8080/",
          "height": 34
        }
      },
      "source": [
        "#from google.colab import drive\n",
        "#import logging\n",
        "from datetime import datetime\n",
        "#drive.mount('/content/drive')\n",
        "import pandas as pd\n",
        "import numpy as np\n",
        "import sys\n",
        "import sklearn\n",
        "\n",
        "from sklearn.model_selection import train_test_split\n",
        "from sklearn.feature_extraction.text import CountVectorizer\n",
        "from sklearn.metrics import accuracy_score\n",
        "from sklearn import preprocessing\n",
        "\n",
        "\n",
        "pd.set_option('display.max_columns', None) #https://stackoverflow.com/questions/28775813/not-able-to-view-all-columns-in-pandas-data-frame\n",
        "\n",
        "\n",
        "import matplotlib.pyplot as plt\n",
        "train_data =  pd.read_csv('/content/drive/My Drive/train_transaction.csv',index_col='TransactionID') #Loading content from google drive\n",
        "id_data = pd.read_csv('/content/drive/My Drive/train_identity.csv',index_col='TransactionID')\n",
        "id_data = id_data.loc[:,['DeviceType']]\n",
        "id_data['DeviceType'] = id_data['DeviceType'].fillna(0)\n",
        "id_data['DeviceType'] = id_data['DeviceType'].apply(lambda x : 1 if x == 'mobile' else 2 ) \n",
        "train_data = train_data.join(id_data)  #https://stackoverflow.com/questions/40468069/merge-two-dataframes-by-index\n",
        "\n",
        "\n",
        "\n",
        "#Filter out cards - assign numeric values\n",
        "train_data['DeviceType'] = train_data['DeviceType'].fillna(0)\n",
        "train_data = train_data.drop(['dist1','dist2'],axis=1)\n",
        "train_data = train_data.drop(['M1','M2','M3','M4','M5','M6','M7','M8','M9','P_emaildomain','R_emaildomain'],axis=1)\n",
        "train_data.loc[train_data['card4'].isnull(),'card4'] = '0'\n",
        "#train_data['card4'] = train_data['card4'].apply(lambda x: 1 if x.strip() == 'mastercard' else  ( 2 if x.strip() == 'visa' else (3 if x.strip() == 'discover' else (4 if x.strip() == 'american express' else 0) ) ) )\n",
        "train_data.loc[:,'C1':'V339'] = train_data.loc[:,'C1':'V339'].fillna(0)\n",
        "train_data.loc[train_data['card6'].isnull(),'card6'] = '0'\n",
        "#train_data['card6'] = train_data['card6'].apply(lambda x : 0 if x.strip() == 'credit' else ( 2 if x.strip() == 'dedit' else ( 3 if x.strip() == 'charge card' else ( 4 if x.strip() == 'debit or credit' else 6 ) ) ))\n",
        "train_data.loc[:,'addr1':'addr2'] = train_data.loc[:,'addr1':'addr2'].fillna(0)\n",
        "train_data['ProductCD'] = train_data['ProductCD'].apply( lambda x : ord(x))\n",
        "train_data.loc[:,['card1','card2','card3','card5']] = train_data.loc[:,['card1','card2','card3','card5']].fillna(0)\n",
        "train_data['date'] = train_data['TransactionDT'].apply(lambda x : datetime.fromtimestamp(x))\n",
        "train_data['hour'] = train_data['date'].dt.hour.apply(lambda x : int(x))\n",
        "train_data = train_data.drop(['TransactionDT','date'],axis=1)\n",
        "le = preprocessing.LabelEncoder()\n",
        "train_data['card4'] = le.fit_transform(train_data['card4'])\n",
        "train_data['card6'] = le.fit_transform(train_data['card6'])\n",
        "\n",
        "#Modify actual data\n",
        "test_data =  pd.read_csv('/content/drive/My Drive/test_transaction.csv',index_col='TransactionID') #Loading content from google drive\n",
        "test_id_data = pd.read_csv('/content/drive/My Drive/test_identity.csv',index_col='TransactionID')\n",
        "test_id_data = test_id_data.loc[:,['DeviceType']]\n",
        "test_id_data['DeviceType'] = test_id_data['DeviceType'].fillna(0)\n",
        "test_id_data['DeviceType'] = test_id_data['DeviceType'].apply(lambda x : 1 if x == 'mobile' else 2 ) \n",
        "test_data = test_data.join(test_id_data)  #https://stackoverflow.com/questions/40468069/merge-two-dataframes-by-index\n",
        "\n",
        "test_data['DeviceType'] = test_data['DeviceType'].fillna(0)\n",
        "test_data = test_data.drop(['dist1','dist2'],axis=1)\n",
        "test_data = test_data.drop(['M1','M2','M3','M4','M5','M6','M7','M8','M9','P_emaildomain','R_emaildomain'],axis=1)\n",
        "test_data.loc[test_data['card4'].isnull(),'card4'] = '0'\n",
        "test_data['card4'] = test_data['card4'].apply(lambda x: 1 if x.strip() == 'mastercard' else  ( 2 if x.strip() == 'visa' else (3 if x.strip() == 'discover' else (4 if x.strip() == 'american express' else 0) ) ) )\n",
        "test_data.loc[:,'C1':'V339'] = test_data.loc[:,'C1':'V339'].fillna(0)\n",
        "test_data.loc[test_data['card6'].isnull(),'card6'] = '0'\n",
        "test_data['card6'] = test_data['card6'].apply(lambda x : 0 if x.strip() == 'credit' else ( 2 if x.strip() == 'dedit' else ( 3 if x.strip() == 'charge card' else ( 4 if x.strip() == 'debit or credit' else 6 ) ) ))\n",
        "test_data.loc[:,'addr1':'addr2'] = test_data.loc[:,'addr1':'addr2'].fillna(0)\n",
        "test_data['ProductCD'] = test_data['ProductCD'].apply( lambda x : ord(x))\n",
        "test_data.loc[:,['card1','card2','card3','card5']] = test_data.loc[:,['card1','card2','card3','card5']].fillna(0)\n",
        "test_data['date'] = test_data['TransactionDT'].apply(lambda x : datetime.fromtimestamp(x))\n",
        "test_data['hour'] = test_data['date'].dt.hour.apply(lambda x : int(x))\n",
        "test_data = test_data.drop(['TransactionDT','date'],axis=1)\n",
        "test_data['card4'] = le.fit_transform(test_data['card4'])\n",
        "test_data['card6'] = le.fit_transform(test_data['card6'])\n",
        "\n",
        "\n",
        "\n",
        "\n",
        "response_vector = train_data.pop('isFraud')\n",
        "\n",
        "x_train, x_test, y_train, y_test = train_test_split(train_data, response_vector, test_size=.5)\n",
        "\n",
        "\n",
        "#Build a Model -LinearRegression\n",
        "\n",
        "submission_dataframe = pd.read_csv('/content/drive/My Drive/sample_submission.csv',index_col='TransactionID')\n",
        "#fin_test_df = pd.DataFrame(columns=test_data.columns)\n",
        "drop_array = []\n",
        "idx = submission_dataframe.index\n",
        "\n",
        "for index,row in test_data.iterrows():\n",
        "    if not idx.contains(index) :\n",
        "       drop_array.append(index)\n",
        "test_data = test_data.drop(drop_array)\n",
        "\n",
        "\n",
        "'''\n",
        "from sklearn.linear_model import LogisticRegression, LinearRegression\n",
        "response_vector = train_data.pop('isFraud')\n",
        "clf = LogisticRegression(solver='lbfgs',max_iter=100000)\n",
        "clf.fit(train_data, response_vector)\n",
        "preds = clf.predict(test_data)\n",
        "\n",
        "\n",
        "#Build a model  - DecisionTreeClassifier\n",
        "from sklearn.tree import DecisionTreeClassifier \n",
        "dtree_model = DecisionTreeClassifier(max_depth = 2).fit(train_data, response_vector) \n",
        "preds = dtree_model.predict(test_data) \n",
        "\n",
        "\n",
        "#Build a model  - RandomForestRegressor\n",
        "from sklearn.ensemble import RandomForestClassifier\n",
        "model= RandomForestClassifier(n_estimators=1000)\n",
        "model.fit(x_train, y_train)\n",
        "preds = model.predict(x_test)\n",
        "\n",
        "\n",
        "from sklearn.linear_model import SGDClassifier\n",
        "clf = SGDClassifier(loss=\"hinge\", penalty=\"l2\", max_iter=100)\n",
        "clf.fit(x_train, y_train)\n",
        "preds = clf.predict(x_test)\n",
        "\n",
        "'''\n",
        "\n",
        "\n",
        "from sklearn.linear_model import Ridge\n",
        "\n",
        "rr = Ridge(alpha=0.01)\n",
        "rr.fit(x_train, y_train) \n",
        "preds= rr.predict(x_test)\n",
        "\n",
        "\n",
        "\n",
        "score = (accuracy_score(y_test, preds.round(), normalize=True))\n",
        "\n",
        "\n",
        "print(\"Accurace Score: \" + str(score))\n",
        "\n"
      ],
      "execution_count": 0,
      "outputs": [
        {
          "output_type": "stream",
          "text": [
            "Accurace Score: 0.9691062417448437\n"
          ],
          "name": "stdout"
        }
      ]
    },
    {
      "cell_type": "markdown",
      "metadata": {
        "id": "N0CwE_Gz00GX",
        "colab_type": "text"
      },
      "source": [
        "Explanation : \n",
        "The first part of the task was cleaning the data. I tried removing various columns that seemed to have no relevant data, a quick view through excel sheet on the some of the columns revealed that they had mostly empty cells (np.nan) and would not have been wise to keep them to build a model.\n",
        "\n",
        "\n",
        "A coarse way to clean the data was to convert the text values to numeric. For eg. the card4 column has visa,mastercard, etc values which could simply be mapped to numeric values of 0,1,2, etc. This same technique was applied to columns DeviceType, card6 and others yielding a numeric set of values for a column.\n",
        "\n",
        "The next step was extracting the response vecctor or the expected results from the train_transaction dataset i.e the isFraud column. The train_identity csv was combined with the train_transaction csv as one dataframe with some columns omitted and others reduced to numeric values.\n",
        "\n",
        "Lastly the train_transacation dataset was split into two segments, one to train and the other to verify the accuracy of the model.\n",
        "\n",
        "\n",
        "The basic process then to build a model and use the model is as follows\n",
        "\n",
        "\n",
        "1.   Import a releveant python Machine Learning library\n",
        "2.   Create an instance of that library (LogisticRegression, DecisionTree, RandomForestRegressor)\n",
        "3.   Fit the training data into the instance for training the model\n",
        "4.   Lastly apply the trained model onto the actual dataset\n",
        "\n",
        "While, I am not aware of how Machine learning models work; my recent exposure to the N.L.P course gave me some insight along with some resources from Google. The following are the links I have used to build a model:\n",
        "- https://www.geeksforgeeks.org/getting-started-machine-learning/\n",
        "- https://www.geeksforgeeks.org/learning-model-building-scikit-learn-python-machine-learning-library/\n",
        "- https://www.pluralsight.com/guides/linear-lasso-ridge-regression-scikit-learn\n",
        "- https://towardsdatascience.com/which-machine-learning-model-to-use-db5fdf37f3dd\n",
        "\n",
        "The last link gave me a quick cheat-sheet on which model I could use.  Based on the cheat-sheet RidgeRegression seemed to be the most appropriate model to use, since it was stated that it works best with a set of continuous numerical values to train the model and we did have those. For eg.numeric values for time of the day/PurchaseAmt provided a continuous set of values.\n",
        "\n",
        "Accuracy score :-\n",
        "- Ridge Regression : 0.9688\n",
        "- SGD Classifier : 0.9660\n",
        " \n",
        "\n",
        "\n",
        "\n",
        "\n",
        "\n",
        "\n",
        "\n"
      ]
    },
    {
      "cell_type": "markdown",
      "metadata": {
        "id": "8jZcIvockJCG",
        "colab_type": "text"
      },
      "source": [
        "## Part 7 - Final Result"
      ]
    },
    {
      "cell_type": "code",
      "metadata": {
        "id": "gAvGF4x84vJZ",
        "colab_type": "code",
        "colab": {}
      },
      "source": [
        "from google.colab import drive\n",
        "#import logging\n",
        "from datetime import datetime\n",
        "#drive.mount('/content/drive')\n",
        "import pandas as pd\n",
        "import numpy as np\n",
        "import sys\n",
        "import sklearn\n",
        "\n",
        "from sklearn.model_selection import train_test_split\n",
        "from sklearn.feature_extraction.text import CountVectorizer\n",
        "from sklearn.metrics import accuracy_score\n",
        "from sklearn import preprocessing\n",
        "\n",
        "\n",
        "pd.set_option('display.max_columns', None) #https://stackoverflow.com/questions/28775813/not-able-to-view-all-columns-in-pandas-data-frame\n",
        "\n",
        "\n",
        "import matplotlib.pyplot as plt\n",
        "train_data =  pd.read_csv('/content/drive/My Drive/train_transaction.csv',index_col='TransactionID') #Loading content from google drive\n",
        "id_data = pd.read_csv('/content/drive/My Drive/train_identity.csv',index_col='TransactionID')\n",
        "id_data = id_data.loc[:,['DeviceType']]\n",
        "id_data['DeviceType'] = id_data['DeviceType'].fillna(0)\n",
        "id_data['DeviceType'] = id_data['DeviceType'].apply(lambda x : 1 if x == 'mobile' else 2 ) \n",
        "train_data = train_data.join(id_data)  #https://stackoverflow.com/questions/40468069/merge-two-dataframes-by-index\n",
        "\n",
        "\n",
        "\n",
        "#Filter out cards - assign numeric values\n",
        "train_data['DeviceType'] = train_data['DeviceType'].fillna(0)\n",
        "train_data = train_data.drop(['dist1','dist2'],axis=1)\n",
        "train_data = train_data.drop(['M1','M2','M3','M4','M5','M6','M7','M8','M9','P_emaildomain','R_emaildomain'],axis=1)\n",
        "train_data.loc[train_data['card4'].isnull(),'card4'] = '0'\n",
        "#train_data['card4'] = train_data['card4'].apply(lambda x: 1 if x.strip() == 'mastercard' else  ( 2 if x.strip() == 'visa' else (3 if x.strip() == 'discover' else (4 if x.strip() == 'american express' else 0) ) ) )\n",
        "train_data.loc[:,'C1':'V339'] = train_data.loc[:,'C1':'V339'].fillna(0)\n",
        "train_data.loc[train_data['card6'].isnull(),'card6'] = '0'\n",
        "#train_data['card6'] = train_data['card6'].apply(lambda x : 0 if x.strip() == 'credit' else ( 2 if x.strip() == 'dedit' else ( 3 if x.strip() == 'charge card' else ( 4 if x.strip() == 'debit or credit' else 6 ) ) ))\n",
        "train_data.loc[:,'addr1':'addr2'] = train_data.loc[:,'addr1':'addr2'].fillna(0)\n",
        "train_data['ProductCD'] = train_data['ProductCD'].apply( lambda x : ord(x))\n",
        "train_data.loc[:,['card1','card2','card3','card5']] = train_data.loc[:,['card1','card2','card3','card5']].fillna(0)\n",
        "train_data['date'] = train_data['TransactionDT'].apply(lambda x : datetime.fromtimestamp(x))\n",
        "train_data['hour'] = train_data['date'].dt.hour.apply(lambda x : int(x))\n",
        "train_data = train_data.drop(['TransactionDT','date'],axis=1)\n",
        "le = preprocessing.LabelEncoder()\n",
        "train_data['card4'] = le.fit_transform(train_data['card4'])\n",
        "train_data['card6'] = le.fit_transform(train_data['card6'])\n",
        "\n",
        "#Modify actual data\n",
        "test_data =  pd.read_csv('/content/drive/My Drive/test_transaction.csv',index_col='TransactionID') #Loading content from google drive\n",
        "test_id_data = pd.read_csv('/content/drive/My Drive/test_identity.csv',index_col='TransactionID')\n",
        "test_id_data = test_id_data.loc[:,['DeviceType']]\n",
        "test_id_data['DeviceType'] = test_id_data['DeviceType'].fillna(0)\n",
        "test_id_data['DeviceType'] = test_id_data['DeviceType'].apply(lambda x : 1 if x == 'mobile' else 2 ) \n",
        "test_data = test_data.join(test_id_data)  #https://stackoverflow.com/questions/40468069/merge-two-dataframes-by-index\n",
        "\n",
        "test_data['DeviceType'] = test_data['DeviceType'].fillna(0)\n",
        "test_data = test_data.drop(['dist1','dist2'],axis=1)\n",
        "test_data = test_data.drop(['M1','M2','M3','M4','M5','M6','M7','M8','M9','P_emaildomain','R_emaildomain'],axis=1)\n",
        "test_data.loc[test_data['card4'].isnull(),'card4'] = '0'\n",
        "test_data['card4'] = test_data['card4'].apply(lambda x: 1 if x.strip() == 'mastercard' else  ( 2 if x.strip() == 'visa' else (3 if x.strip() == 'discover' else (4 if x.strip() == 'american express' else 0) ) ) )\n",
        "test_data.loc[:,'C1':'V339'] = test_data.loc[:,'C1':'V339'].fillna(0)\n",
        "test_data.loc[test_data['card6'].isnull(),'card6'] = '0'\n",
        "test_data['card6'] = test_data['card6'].apply(lambda x : 0 if x.strip() == 'credit' else ( 2 if x.strip() == 'dedit' else ( 3 if x.strip() == 'charge card' else ( 4 if x.strip() == 'debit or credit' else 6 ) ) ))\n",
        "test_data.loc[:,'addr1':'addr2'] = test_data.loc[:,'addr1':'addr2'].fillna(0)\n",
        "test_data['ProductCD'] = test_data['ProductCD'].apply( lambda x : ord(x))\n",
        "test_data.loc[:,['card1','card2','card3','card5']] = test_data.loc[:,['card1','card2','card3','card5']].fillna(0)\n",
        "test_data['date'] = test_data['TransactionDT'].apply(lambda x : datetime.fromtimestamp(x))\n",
        "test_data['hour'] = test_data['date'].dt.hour.apply(lambda x : int(x))\n",
        "test_data = test_data.drop(['TransactionDT','date'],axis=1)\n",
        "test_data['card4'] = le.fit_transform(test_data['card4'])\n",
        "test_data['card6'] = le.fit_transform(test_data['card6'])\n",
        "\n",
        "\n",
        "\n",
        "\n",
        "response_vector = train_data.pop('isFraud')\n",
        "\n",
        "#x_train, x_test, y_train, y_test = train_test_split(train_data, response_vector, test_size=.5)\n",
        "\n",
        "\n",
        "#Build a Model -LinearRegression\n",
        "\n",
        "submission_dataframe = pd.read_csv('/content/drive/My Drive/sample_submission.csv',index_col='TransactionID')\n",
        "#fin_test_df = pd.DataFrame(columns=test_data.columns)\n",
        "drop_array = []\n",
        "idx = submission_dataframe.index\n",
        "\n",
        "for index,row in test_data.iterrows():\n",
        "    if not idx.contains(index) :\n",
        "       drop_array.append(index)\n",
        "test_data = test_data.drop(drop_array)\n",
        "\n",
        "\n",
        "'''\n",
        "from sklearn.linear_model import LogisticRegression, LinearRegression\n",
        "response_vector = train_data.pop('isFraud')\n",
        "clf = LogisticRegression(solver='lbfgs',max_iter=100000)\n",
        "clf.fit(train_data, response_vector)\n",
        "preds = clf.predict(test_data)\n",
        "\n",
        "\n",
        "#Build a model  - DecisionTreeClassifier\n",
        "from sklearn.tree import DecisionTreeClassifier \n",
        "dtree_model = DecisionTreeClassifier(max_depth = 2).fit(train_data, response_vector) \n",
        "preds = dtree_model.predict(test_data) \n",
        "\n",
        "\n",
        "#Build a model  - RandomForestRegressor\n",
        "from sklearn.ensemble import RandomForestClassifier\n",
        "model= RandomForestClassifier(n_estimators=1000)\n",
        "model.fit(x_train, y_train)\n",
        "preds = model.predict(x_test)\n",
        "\n",
        "\n",
        "from sklearn.linear_model import SGDClassifier\n",
        "clf = SGDClassifier(loss=\"hinge\", penalty=\"l2\", max_iter=100)\n",
        "clf.fit(x_train, y_train)\n",
        "preds = clf.predict(x_test)\n",
        "\n",
        "'''\n",
        "\n",
        "\n",
        "from sklearn.linear_model import Ridge\n",
        "\n",
        "rr = Ridge(alpha=0.01)\n",
        "rr.fit(train_data, response_vector) \n",
        "preds= rr.predict(test_data)\n",
        "\n",
        "prediction = pd.DataFrame({\n",
        "    \"TransactionID\" : list(test_data.index),\n",
        "    \"isFraud\" : list(preds)\n",
        "})\n",
        "\n",
        "f = open('/content/drive/My Drive/response.csv','w')\n",
        "prediction.to_csv(r'/content/drive/My Drive/response.csv',index=False)\n",
        "\n",
        "\n"
      ],
      "execution_count": 0,
      "outputs": []
    },
    {
      "cell_type": "markdown",
      "metadata": {
        "id": "a_AoEe4D4u7l",
        "colab_type": "text"
      },
      "source": [
        "My Score for each model:\n",
        "1. LinearRegression - 0.52\n",
        "2. DecisionTreeClassifier - .7141 \n",
        "3. RandomForestRegressor - 0.7114\n",
        "4. SGDClassifier - 0.5993\n",
        "5. RidgeRegression \n",
        "\n",
        " - Score : .8531\n",
        "\n",
        "\n",
        "\n",
        "\n",
        "\n",
        "\n"
      ]
    },
    {
      "cell_type": "markdown",
      "metadata": {
        "id": "c0TmJjkOr32u",
        "colab_type": "text"
      },
      "source": [
        "Kaggle Link: https://www.kaggle.com/virajkcs"
      ]
    },
    {
      "cell_type": "markdown",
      "metadata": {
        "id": "myOj_YYlr32v",
        "colab_type": "text"
      },
      "source": [
        "Highest Rank: 5104"
      ]
    },
    {
      "cell_type": "markdown",
      "metadata": {
        "id": "vrjApYo_r32w",
        "colab_type": "text"
      },
      "source": [
        "Score: .8531"
      ]
    },
    {
      "cell_type": "markdown",
      "metadata": {
        "id": "sGJIW7bFr32x",
        "colab_type": "text"
      },
      "source": [
        "Number of entries: 7"
      ]
    },
    {
      "cell_type": "markdown",
      "metadata": {
        "id": "O-IIq_FAr32y",
        "colab_type": "text"
      },
      "source": [
        "IMAGE OF KAGGLE RANKING :  drive.google.com/open?id=18CSAPzaunEFgnEs3sTcE_5pL9Q_WHhkj"
      ]
    }
  ]
}