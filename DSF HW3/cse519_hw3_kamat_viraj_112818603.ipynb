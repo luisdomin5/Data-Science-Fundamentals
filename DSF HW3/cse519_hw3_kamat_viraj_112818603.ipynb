{
  "nbformat": 4,
  "nbformat_minor": 0,
  "metadata": {
    "kernelspec": {
      "display_name": "Python 3",
      "language": "python",
      "name": "python3"
    },
    "language_info": {
      "codemirror_mode": {
        "name": "ipython",
        "version": 3
      },
      "file_extension": ".py",
      "mimetype": "text/x-python",
      "name": "python",
      "nbconvert_exporter": "python",
      "pygments_lexer": "ipython3",
      "version": "3.7.4"
    },
    "colab": {
      "name": "CSE519_HW3.ipynb",
      "provenance": [],
      "collapsed_sections": []
    }
  },
  "cells": [
    {
      "cell_type": "markdown",
      "metadata": {
        "id": "DhxBgffxC_9x",
        "colab_type": "text"
      },
      "source": [
        "# Homework 3 - Ames Housing Dataset"
      ]
    },
    {
      "cell_type": "markdown",
      "metadata": {
        "id": "F8bdEZbDC_9y",
        "colab_type": "text"
      },
      "source": [
        "For all parts below, answer all parts as shown in the Google document for Homework 3. Be sure to include both code that justifies your answer as well as text to answer the questions. We also ask that code be commented to make it easier to follow."
      ]
    },
    {
      "cell_type": "markdown",
      "metadata": {
        "id": "MOLGRatoC_9y",
        "colab_type": "text"
      },
      "source": [
        "## Part 1 - Pairwise Correlations"
      ]
    },
    {
      "cell_type": "code",
      "metadata": {
        "id": "tR4YYNeMC_9z",
        "colab_type": "code",
        "outputId": "598949e7-ec2b-45e8-b121-6585eaec1277",
        "colab": {
          "base_uri": "https://localhost:8080/",
          "height": 354
        }
      },
      "source": [
        "from google.colab import drive\n",
        "#import logging\n",
        "from datetime import datetime\n",
        "drive.mount('/content/drive')\n",
        "import pandas as pd\n",
        "import numpy as np\n",
        "pd.set_option('display.max_columns', None) #https://stackoverflow.com/questions/28775813/not-able-to-view-all-columns-in-pandas-data-frame\n",
        "from pandas.api.types import CategoricalDtype\n",
        "from  scipy import stats\n",
        "import itertools\n",
        "import seaborn\n",
        "import matplotlib.pyplot as plt\n",
        "\n",
        "qual_map = {\"Ex\":10,\"Gd\":8,\"Fa\":6,\"TA\":4,\"Po\":2,np.nan:0}\n",
        "\n",
        "\n",
        "csv_data =  pd.read_csv('/content/drive/My Drive/house-prices-advanced-regression-techniques/train.csv',index_col='Id') #Loading content from google drive\n",
        "csv_data['ExterQual'] = csv_data['ExterQual'].apply(lambda x: qual_map[x] ) \n",
        "csv_data['ExterCond'] = csv_data['ExterCond'].apply(lambda x: qual_map[x] ) \n",
        "csv_data['BsmtQual'] = csv_data['BsmtQual'].apply(lambda x: qual_map[x] )\n",
        "csv_data['BsmtCond'] = csv_data['BsmtCond'].apply(lambda x: qual_map[x] )\n",
        "csv_data['KitchenQual'] = csv_data['KitchenQual'].apply(lambda x: qual_map[x] )\n",
        "csv_data['FireplaceQu'] = csv_data['FireplaceQu'].apply(lambda x: qual_map[x] )  \n",
        "csv_data['GarageQual'] = csv_data['GarageQual'].apply(lambda x: qual_map[x] ) \n",
        "csv_data['GarageCond'] = csv_data['GarageCond'].apply(lambda x: qual_map[x] ) \n",
        "csv_data['PoolQC'] = csv_data['PoolQC'].apply(lambda x: qual_map[x]) \n",
        "csv_data['HeatingQC'] = csv_data['HeatingQC'].apply(lambda x: qual_map[x]) \n",
        "\n",
        "interesting_variables = [\"BsmtQual\",\"BsmtCond\",\"LotArea\",\"LotFrontage\",\"GarageQual\",\"PoolQC\",\"BldgType\",\"OverallQual\",\"OverallCond\",\"HeatingQC\",\"YearBuilt\",\"ExterQual\",\"ExterCond\",\"SalePrice\",\"YrSold\"]\n",
        "\n",
        "csv_data['Alley'] = csv_data['Alley'].fillna('NotApplicable')\n",
        "csv_data = csv_data.loc[:,interesting_variables]\n",
        "\n",
        "cat_variables = ['BldgType']#,'Condition1','Condition2']\n",
        "#print(csv_data.head(2))\n",
        "for column in cat_variables :\n",
        "  csv_data[column] = pd.factorize(csv_data[column])[0]+1 \n",
        "\n",
        "#corelation_values = {}\n",
        "#for int_1,int_2 in itertools.combinations(interesting_variables, 2):\n",
        "  #corelation_values[int_1+'-'+int_2] = stats.stats.pearsonr(csv_data.loc[:, int_1], csv_data.loc[:, int_2])\n",
        "#result = pd.DataFrame.from_dict(corelation_values, orient='index')\n",
        "\n",
        "corelations = csv_data.corr(method='pearson')\n",
        "seaborn.heatmap(corelations)\n",
        "\n",
        "  "
      ],
      "execution_count": 0,
      "outputs": [
        {
          "output_type": "stream",
          "text": [
            "Drive already mounted at /content/drive; to attempt to forcibly remount, call drive.mount(\"/content/drive\", force_remount=True).\n"
          ],
          "name": "stdout"
        },
        {
          "output_type": "execute_result",
          "data": {
            "text/plain": [
              "<matplotlib.axes._subplots.AxesSubplot at 0x7fbd59a68b38>"
            ]
          },
          "metadata": {
            "tags": []
          },
          "execution_count": 6
        },
        {
          "output_type": "display_data",
          "data": {
            "image/png": "[encoded data removed]",
            "text/plain": [
              "<Figure size 432x288 with 2 Axes>"
            ]
          },
          "metadata": {
            "tags": []
          }
        }
      ]
    },
    {
      "cell_type": "markdown",
      "metadata": {
        "id": "YU6cRayNC_92",
        "colab_type": "text"
      },
      "source": [
        "Positive Correlations :\n",
        "1.   YearBuilt-SalePrice - This shows a positive correlation which means that as time went by, houses became more expensive.\n",
        "2.   OverallQual/Overallcond-SalePrice - Shows a positive relation as houses in a better condition will cost more.\n",
        "3.   HeatingQC-BsmtQual- One reason for heating quality being better with a good quality basement could be that heating equiment. for the house is stored in the basement. If a basement is repaired/renovated then we can expect the heating equipment to be fixed as well.\n",
        "4.   LotArea-LotFrontage - Houses with larger LotAreas are expected to have a larger LotFrontages, since more space could be allocated to building a LotFrontage.\n",
        "\n",
        "\n",
        "Negative Correlations:\n",
        "1.   OverallQual-BsmtCond: Suprisingly Basequality inversely corelated with Overallquality. One reason could be a lot of expenses were put in building the house overall and very few in the basement, since looks of the house matter more.\n",
        "2.   LotArea-YearBuilt: Since houses got expensive over time, it is also obvious that the size of the houses/lots sold also decreased.\n",
        "3.   HeatingQC-YearSold: HeatingQuality worsening with time could be due to poor heating equipment being built over the years. We cannot say for sure, but fluctuations in climate due do climate change may account for perceived poor heating quality.\n",
        "4.   PoolQC-YrSold : One reason for lowering pool quality with time could be that the cost of building pools increased and hence cost cuts were made in building a pool.\n",
        "\n",
        "\n",
        "\n",
        "\n"
      ]
    },
    {
      "cell_type": "markdown",
      "metadata": {
        "id": "t-JoOZFnC_92",
        "colab_type": "text"
      },
      "source": [
        "## Part 2 - Informative Plots"
      ]
    },
    {
      "cell_type": "code",
      "metadata": {
        "id": "50tuHKtpC_93",
        "colab_type": "code",
        "outputId": "223c2444-5d9c-4426-ace9-f1f0f7712126",
        "colab": {
          "base_uri": "https://localhost:8080/",
          "height": 317
        }
      },
      "source": [
        "from google.colab import drive\n",
        "#import logging\n",
        "from datetime import datetime\n",
        "drive.mount('/content/drive')\n",
        "import pandas as pd\n",
        "import numpy as np\n",
        "pd.set_option('display.max_columns', None) #https://stackoverflow.com/questions/28775813/not-able-to-view-all-columns-in-pandas-data-frame\n",
        "from pandas.api.types import CategoricalDtype\n",
        "from  scipy import stats\n",
        "import itertools\n",
        "import seaborn\n",
        "import matplotlib.pyplot as plt\n",
        "\n",
        "\n",
        "csv_data =  pd.read_csv('/content/drive/My Drive/house-prices-advanced-regression-techniques/train.csv',index_col='Id') #Loading content from google drive\n",
        "\n",
        "compare_1 = csv_data.loc[:,['YearBuilt','SalePrice']]\n",
        "compare_1 = csv_data.groupby('YearBuilt')['SalePrice'].mean()\n",
        "\n",
        "#compare_2 = csv_data.loc[:,['LotArea','SalePrice']]\n",
        "#compare_2 = csv_data.groupby('LotArea')['SalePrice'].mean()\n",
        "\n",
        "#plt.plot(compare_1)\n",
        "#plt.plot(compare_2)\n",
        "\n",
        "#fig, axs = plt.subplots(2,1, figsize=(20, 10))\n",
        "\n",
        "\n",
        "compare_1.plot()\n",
        "\n",
        "\n"
      ],
      "execution_count": 0,
      "outputs": [
        {
          "output_type": "stream",
          "text": [
            "Drive already mounted at /content/drive; to attempt to forcibly remount, call drive.mount(\"/content/drive\", force_remount=True).\n"
          ],
          "name": "stdout"
        },
        {
          "output_type": "execute_result",
          "data": {
            "text/plain": [
              "<matplotlib.axes._subplots.AxesSubplot at 0x7fbd5998afd0>"
            ]
          },
          "metadata": {
            "tags": []
          },
          "execution_count": 8
        },
        {
          "output_type": "display_data",
          "data": {
            "image/png": "[encoded data removed]",
            "text/plain": [
              "<Figure size 432x288 with 1 Axes>"
            ]
          },
          "metadata": {
            "tags": []
          }
        }
      ]
    },
    {
      "cell_type": "markdown",
      "metadata": {
        "id": "_oS2Pm2AC_95",
        "colab_type": "text"
      },
      "source": [
        "Here the plot shows the relation between the SalePrice over the years. It is evident that the cost of the houses kept increasing with time, which is indicative of either purchasing power of people/currency reducing or the housing market doing extremely well with a very high demand from the people."
      ]
    },
    {
      "cell_type": "code",
      "metadata": {
        "id": "xnWtMCqFC_96",
        "colab_type": "code",
        "outputId": "91c37353-64bd-4459-e783-72fc960b560b",
        "colab": {
          "base_uri": "https://localhost:8080/",
          "height": 317
        }
      },
      "source": [
        "from google.colab import drive\n",
        "#import logging\n",
        "from datetime import datetime\n",
        "drive.mount('/content/drive')\n",
        "import pandas as pd\n",
        "import numpy as np\n",
        "pd.set_option('display.max_columns', None) #https://stackoverflow.com/questions/28775813/not-able-to-view-all-columns-in-pandas-data-frame\n",
        "from pandas.api.types import CategoricalDtype\n",
        "from  scipy import stats\n",
        "import itertools\n",
        "import seaborn\n",
        "import matplotlib.pyplot as plt\n",
        "\n",
        "\n",
        "csv_data =  pd.read_csv('/content/drive/My Drive/house-prices-advanced-regression-techniques/train.csv',index_col='Id') #Loading content from google drive\n",
        "compare_2 = csv_data.loc[:,['OverallQual','OverallCond','YrSold','HouseStyle','LotArea','LotFrontage']]\n",
        "compare_2['LotFrontage'].fillna(0)\n",
        "compare_2.plot.scatter('LotFrontage','LotArea')\n"
      ],
      "execution_count": 0,
      "outputs": [
        {
          "output_type": "stream",
          "text": [
            "Drive already mounted at /content/drive; to attempt to forcibly remount, call drive.mount(\"/content/drive\", force_remount=True).\n"
          ],
          "name": "stdout"
        },
        {
          "output_type": "execute_result",
          "data": {
            "text/plain": [
              "<matplotlib.axes._subplots.AxesSubplot at 0x7fbe4333f588>"
            ]
          },
          "metadata": {
            "tags": []
          },
          "execution_count": 125
        },
        {
          "output_type": "display_data",
          "data": {
            "image/png": "[encoded data removed]",
            "text/plain": [
              "<Figure size 432x288 with 1 Axes>"
            ]
          },
          "metadata": {
            "tags": []
          }
        }
      ]
    },
    {
      "cell_type": "markdown",
      "metadata": {
        "id": "UzfHbh3AC_98",
        "colab_type": "text"
      },
      "source": [
        "This ScatterPlot plots the LotArea with the LotFrontage; it shows how larger LotArea's yield in larger LotFrontage's. This is because people with larger homes are more likely to have a Lotfrontage attached to them while smaller home either might not have a LotFrontage or have a small one."
      ]
    },
    {
      "cell_type": "code",
      "metadata": {
        "id": "TzKXLqbtC_99",
        "colab_type": "code",
        "outputId": "7cff822c-3ec0-483e-c01e-ce7d87ace4af",
        "colab": {
          "base_uri": "https://localhost:8080/",
          "height": 595
        }
      },
      "source": [
        "from google.colab import drive\n",
        "#import logging\n",
        "from datetime import datetime\n",
        "drive.mount('/content/drive')\n",
        "import pandas as pd\n",
        "import numpy as np\n",
        "pd.set_option('display.max_columns', None) #https://stackoverflow.com/questions/28775813/not-able-to-view-all-columns-in-pandas-data-frame\n",
        "from pandas.api.types import CategoricalDtype\n",
        "from  scipy import stats\n",
        "import itertools\n",
        "import seaborn\n",
        "import matplotlib.pyplot as plt\n",
        "\n",
        "\n",
        "csv_data =  pd.read_csv('/content/drive/My Drive/house-prices-advanced-regression-techniques/train.csv',index_col='Id') #Loading content from google drive\n",
        "\n",
        "csv_data = csv_data.loc[:,['YearBuilt','SalePrice']]\n",
        "#csv_data['SalePrice'] = np.log(csv_data['SalePrice'])\n",
        "csv_data.hist(column='YearBuilt')\n",
        "csv_data.hist(column='SalePrice',bins=100)"
      ],
      "execution_count": 0,
      "outputs": [
        {
          "output_type": "stream",
          "text": [
            "Drive already mounted at /content/drive; to attempt to forcibly remount, call drive.mount(\"/content/drive\", force_remount=True).\n"
          ],
          "name": "stdout"
        },
        {
          "output_type": "execute_result",
          "data": {
            "text/plain": [
              "array([[<matplotlib.axes._subplots.AxesSubplot object at 0x7fbd596f9860>]],\n",
              "      dtype=object)"
            ]
          },
          "metadata": {
            "tags": []
          },
          "execution_count": 10
        },
        {
          "output_type": "display_data",
          "data": {
            "image/png": "[encoded data removed]",
            "text/plain": [
              "<Figure size 432x288 with 1 Axes>"
            ]
          },
          "metadata": {
            "tags": []
          }
        },
        {
          "output_type": "display_data",
          "data": {
            "image/png": "[encoded data removed]",
            "text/plain": [
              "<Figure size 432x288 with 1 Axes>"
            ]
          },
          "metadata": {
            "tags": []
          }
        }
      ]
    },
    {
      "cell_type": "markdown",
      "metadata": {
        "id": "kCmXLgxcC_9_",
        "colab_type": "text"
      },
      "source": [
        "Plot1 : Histograms of houses constructed per decade. It is evident from this plot that more houses were constructed in a decade, i.e which could be because of an increase in population over the years requiring more houses.\n",
        "\n",
        "\n",
        "Plot2 : Histograms of the SalePrice shows that more of the houses were in the 100000 - 200000 range. There were lesser and lesser houses after the $400,000 range. "
      ]
    },
    {
      "cell_type": "code",
      "metadata": {
        "id": "LgaS0vEEC_-A",
        "colab_type": "code",
        "outputId": "e9951fd1-5e22-4957-ea75-da629a6b3731",
        "colab": {
          "base_uri": "https://localhost:8080/",
          "height": 326
        }
      },
      "source": [
        "from google.colab import drive\n",
        "#import logging\n",
        "from datetime import datetime\n",
        "drive.mount('/content/drive')\n",
        "import pandas as pd\n",
        "import numpy as np\n",
        "pd.set_option('display.max_columns', None) #https://stackoverflow.com/questions/28775813/not-able-to-view-all-columns-in-pandas-data-frame\n",
        "from pandas.api.types import CategoricalDtype\n",
        "from  scipy import stats\n",
        "import itertools\n",
        "import seaborn\n",
        "import matplotlib.pyplot as plt\n",
        "\n",
        "\n",
        "csv_data =  pd.read_csv('/content/drive/My Drive/house-prices-advanced-regression-techniques/train.csv',index_col='Id') #Loading content from google drive\n",
        "\n",
        "\n",
        "csv_data = csv_data.loc[:,['HouseStyle','BldgType']]\n",
        "\n",
        "csv_data['HouseStyle'].value_counts().plot.bar()\n",
        "\n",
        "csv_data['BldgType'].value_counts().plot.bar()\n"
      ],
      "execution_count": 0,
      "outputs": [
        {
          "output_type": "stream",
          "text": [
            "Drive already mounted at /content/drive; to attempt to forcibly remount, call drive.mount(\"/content/drive\", force_remount=True).\n"
          ],
          "name": "stdout"
        },
        {
          "output_type": "execute_result",
          "data": {
            "text/plain": [
              "<matplotlib.axes._subplots.AxesSubplot at 0x7f495834aa58>"
            ]
          },
          "metadata": {
            "tags": []
          },
          "execution_count": 25
        },
        {
          "output_type": "display_data",
          "data": {
            "image/png": "[encoded data removed]",
            "text/plain": [
              "<Figure size 432x288 with 1 Axes>"
            ]
          },
          "metadata": {
            "tags": []
          }
        }
      ]
    },
    {
      "cell_type": "markdown",
      "metadata": {
        "id": "dNWJx7UwC_-B",
        "colab_type": "text"
      },
      "source": [
        "Plot 4 shows the bar chart of the types of buildings and it is evident that the 1Story buildings are the most in abudance, followed by the 2Story and the 1.5Fin building types."
      ]
    },
    {
      "cell_type": "code",
      "metadata": {
        "id": "sUGwpJH1C_-C",
        "colab_type": "code",
        "outputId": "92f5716a-13b4-405d-fb48-8ec6f25db613",
        "colab": {
          "base_uri": "https://localhost:8080/",
          "height": 332
        }
      },
      "source": [
        "from google.colab import drive\n",
        "#import logging\n",
        "from datetime import datetime\n",
        "drive.mount('/content/drive')\n",
        "import pandas as pd\n",
        "import numpy as np\n",
        "pd.set_option('display.max_columns', None) #https://stackoverflow.com/questions/28775813/not-able-to-view-all-columns-in-pandas-data-frame\n",
        "from pandas.api.types import CategoricalDtype\n",
        "from  scipy import stats\n",
        "import itertools\n",
        "import seaborn\n",
        "import matplotlib.pyplot as plt\n",
        "\n",
        "\n",
        "csv_data =  pd.read_csv('/content/drive/My Drive/house-prices-advanced-regression-techniques/train.csv',index_col='Id') #Loading content from google drive\n",
        "\n",
        "\n",
        "data_1 = csv_data.loc[:,['YearBuilt']]\n",
        "data_2 = csv_data.loc[:,['YearRemodAdd']]\n",
        "\n",
        "data_1['YearBuilt'] = data_1['YearBuilt'].apply(lambda x : (x//10)*10)\n",
        "data_2['YearRemodAdd'] = data_2['YearRemodAdd'].apply(lambda x : (x//10)*10)\n",
        "\n",
        "\n",
        "\n",
        "data_1 = data_1.groupby(('YearBuilt'))['YearBuilt'].count().rename_axis('Year')\n",
        "data_1 = pd.DataFrame(data_1)\n",
        "data_2 = data_2.groupby(('YearRemodAdd'))['YearRemodAdd'].count().rename_axis('Year')\n",
        "data_2 = pd.DataFrame(data_2)\n",
        "\n",
        "\n",
        "combined = (pd.merge(data_1,data_2, how='outer', on=['Year'])).fillna(0)\n",
        "\n",
        "combined.plot.bar()\n",
        "\n"
      ],
      "execution_count": 0,
      "outputs": [
        {
          "output_type": "stream",
          "text": [
            "Drive already mounted at /content/drive; to attempt to forcibly remount, call drive.mount(\"/content/drive\", force_remount=True).\n"
          ],
          "name": "stdout"
        },
        {
          "output_type": "execute_result",
          "data": {
            "text/plain": [
              "<matplotlib.axes._subplots.AxesSubplot at 0x7f4957171748>"
            ]
          },
          "metadata": {
            "tags": []
          },
          "execution_count": 87
        },
        {
          "output_type": "display_data",
          "data": {
            "image/png": "[encoded data removed]",
            "text/plain": [
              "<Figure size 432x288 with 1 Axes>"
            ]
          },
          "metadata": {
            "tags": []
          }
        }
      ]
    },
    {
      "cell_type": "markdown",
      "metadata": {
        "id": "bl35E_-2C_-D",
        "colab_type": "text"
      },
      "source": [
        "Plot 5 compares per decade the number of houses built versus the number of houses repaired/renovated. This is indicative of more houses being repaired/renovated than being created, there was no need to build new ones since the older could be remodelled.\n",
        "\n",
        "Also houses prior to 1950's dont show any details of being remodelled, indicative that they were most likely newly built and had no reason to be remodelled."
      ]
    },
    {
      "cell_type": "markdown",
      "metadata": {
        "id": "192PB3wYC_-E",
        "colab_type": "text"
      },
      "source": [
        "## Part 3 - Handcrafted Scoring Function"
      ]
    },
    {
      "cell_type": "code",
      "metadata": {
        "id": "1nbFJmR9C_-F",
        "colab_type": "code",
        "outputId": "b060c418-8ed8-4861-b69d-e1ad3cd7a959",
        "colab": {
          "base_uri": "https://localhost:8080/",
          "height": 874
        }
      },
      "source": [
        "from google.colab import drive\n",
        "#import logging\n",
        "from datetime import datetime\n",
        "drive.mount('/content/drive')\n",
        "import pandas as pd\n",
        "import numpy as np\n",
        "pd.set_option('display.max_columns', None) #https://stackoverflow.com/questions/28775813/not-able-to-view-all-columns-in-pandas-data-frame\n",
        "from pandas.api.types import CategoricalDtype\n",
        "from  scipy import stats\n",
        "import itertools\n",
        "import seaborn\n",
        "import matplotlib.pyplot as plt\n",
        "\n",
        "\n",
        "csv_data =  pd.read_csv('/content/drive/My Drive/house-prices-advanced-regression-techniques/train.csv',index_col='Id') #Loading content from google drive\n",
        "qual_map = {\"Ex\":10,\"Gd\":8,\"Fa\":6,\"TA\":4,\"Po\":2}\n",
        "\n",
        "\n",
        "csv_data['ExterQual'] = csv_data['ExterQual'].apply(lambda x: qual_map[x] ) \n",
        "csv_data['ExterCond'] = csv_data['ExterCond'].apply(lambda x: qual_map[x] ) \n",
        "\n",
        "csv_data['kitchen_qual'] = csv_data['KitchenQual'].apply(lambda x: qual_map[x] )\n",
        "csv_data['avg_condition'] = (csv_data['OverallQual']+csv_data['OverallCond'])/2 # Avg overall condition\n",
        "csv_data['ext_condition'] = (csv_data['ExterQual']+csv_data['ExterCond'])/2 #Avg Ext condition\n",
        "csv_data['value_for_money'] = (np.log(csv_data['SalePrice']/csv_data['LotArea'])) # Value for money\n",
        "\n",
        "conditions = [(csv_data['YearBuilt'] > 2000),\n",
        "              (csv_data['YearBuilt'] > 1980) & (csv_data['YearBuilt'] < 2000 ),\n",
        "              (csv_data['YearBuilt'] > 1960) & (csv_data['YearBuilt'] < 1980),\n",
        "              (csv_data['YearBuilt'] > 1940) & (csv_data['YearBuilt'] < 1960),\n",
        "              (csv_data['YearBuilt'] > 1900) & (csv_data['YearBuilt'] < 1940)\n",
        "             ]\n",
        "choices = [10,8,6,4,2]\n",
        "\n",
        "csv_data['YearBuilt'] = np.select(conditions,choices,default=0)\n",
        "csv_data['CentralAir'] = csv_data['CentralAir'].apply(lambda x : 4 if x == 'Y' else 0)\n",
        "csv_data['Utilities'] = csv_data['Utilities'].apply(lambda x : 3 if x == 'AllPub' else 0)\n",
        "processed_data = csv_data.loc[:,['kitchen_qual','avg_condition','ext_condition','value_for_money','YearBuilt','CentralAir','Utilities']] #\n",
        "processed_data['score'] = processed_data.sum(axis=1)\n",
        "best_10 = processed_data.sort_values(by=['score'],ascending=False).head(10)\n",
        "worst_10 = processed_data.sort_values(by=['score'],ascending=False).tail(10)\n",
        "\n",
        "#worst_10 = worst_10.loc[:,['score']]\n",
        "print(worst_10.head(10))\n",
        "print(best_10.head(10))\n"
      ],
      "execution_count": 0,
      "outputs": [
        {
          "output_type": "stream",
          "text": [
            "Drive already mounted at /content/drive; to attempt to forcibly remount, call drive.mount(\"/content/drive\", force_remount=True).\n",
            "      kitchen_qual  avg_condition  ext_condition  value_for_money  YearBuilt  \\\n",
            "Id                                                                             \n",
            "1381             4            3.0            5.0         1.963430          2   \n",
            "917              4            2.5            4.0         1.366970          4   \n",
            "521              4            5.5            4.0         2.286249          0   \n",
            "999              4            3.5            4.0         2.229907          2   \n",
            "810              4            5.0            4.0         2.571575          0   \n",
            "1293             4            4.5            4.0         2.790421          0   \n",
            "243              4            4.5            4.0         2.760010          0   \n",
            "621              4            3.0            4.0         2.094722          2   \n",
            "1063             4            5.0            4.0         1.889740          0   \n",
            "677              4            3.0            4.0         2.204145          0   \n",
            "\n",
            "      CentralAir  Utilities      score  \n",
            "Id                                      \n",
            "1381           0          3  18.963430  \n",
            "917            0          3  18.866970  \n",
            "521            0          3  18.786249  \n",
            "999            0          3  18.729907  \n",
            "810            0          3  18.571575  \n",
            "1293           0          3  18.290421  \n",
            "243            0          3  18.260010  \n",
            "621            0          3  18.094722  \n",
            "1063           0          3  17.889740  \n",
            "677            0          3  16.204145  \n",
            "      kitchen_qual  avg_condition  ext_condition  value_for_money  YearBuilt  \\\n",
            "Id                                                                             \n",
            "1374            10            7.5            7.0         3.711645         10   \n",
            "441             10            7.5            7.0         3.582590         10   \n",
            "390             10            7.5            7.0         3.530793         10   \n",
            "592             10            7.5            7.0         3.512513         10   \n",
            "1244            10            7.5            7.0         3.510796         10   \n",
            "516             10            7.5            7.0         3.495518         10   \n",
            "899             10            7.0            7.0         3.857473         10   \n",
            "225             10            7.5            7.0         3.355871         10   \n",
            "1443            10            7.5            7.0         3.338404         10   \n",
            "995             10            7.5            7.0         3.299363         10   \n",
            "\n",
            "      CentralAir  Utilities      score  \n",
            "Id                                      \n",
            "1374           4          3  45.211645  \n",
            "441            4          3  45.082590  \n",
            "390            4          3  45.030793  \n",
            "592            4          3  45.012513  \n",
            "1244           4          3  45.010796  \n",
            "516            4          3  44.995518  \n",
            "899            4          3  44.857473  \n",
            "225            4          3  44.855871  \n",
            "1443           4          3  44.838404  \n",
            "995            4          3  44.799363  \n"
          ],
          "name": "stdout"
        }
      ]
    },
    {
      "cell_type": "markdown",
      "metadata": {
        "id": "x2f62CiYC_-G",
        "colab_type": "text"
      },
      "source": [
        "The ten most desirable houses are as follows with their Id and scores :\n",
        "\n",
        "1.  1374 - 45.211645\n",
        "2.  441  - 45.082590\n",
        "3.  390  - 45.030793\n",
        "4.  592  - 45.012513\n",
        "5.  1244 - 45.010796\n",
        "6.  516  - 44.995518\n",
        "7.  899  - 44.857473\n",
        "8.  225  - 44.855871\n",
        "9.  1443 - 44.838404\n",
        "10. 995  - 44.799363\n",
        "\n",
        "\n"
      ]
    },
    {
      "cell_type": "markdown",
      "metadata": {
        "id": "LHAhZzgZC_-H",
        "colab_type": "text"
      },
      "source": [
        "The ten least desirable houses are as follows with their Id and scores :\n",
        "\n",
        "1. 1381 - 18.963430\n",
        "2. 917 - 18.866970\n",
        "3. 521 - 18.786249\n",
        "4. 999 - 18.729907\n",
        "5. 810 - 18.571575\n",
        "6. 1293 - 18.290421\n",
        "7. 243 - 18.260010\n",
        "8. 621 - 18.094722\n",
        "9. 1063 - 17.889740\n",
        "10. 677 -16.204145"
      ]
    },
    {
      "cell_type": "markdown",
      "metadata": {
        "id": "YllbRgRwC_-H",
        "colab_type": "text"
      },
      "source": [
        "The scoring function was constructed as follows :\n",
        "1.   Take into account the parameters coding for quality of the home. Good quality homes were given a high score, poorer quality home were given a lower score. This was based on the fields ExterQual, ExterCond, OverallQual, OverallCond, KitchenQual\n",
        "2.   Next look at how far in the past the houses were built, the older the houses the lower the score. The newer the house built the higher the score.\n",
        "3. Lastly take into account the value for money i.e dollar amount per unit area. This was because higher costing homes could be in better living areas.\n",
        "4. Sum these values up, as evident from the output the higher scoring homes overall had better condtions of the home and were more desirable. The lowerer scoring homes showed poor quality in their overall condtions (exterior, kitchen, etc).\n",
        "\n"
      ]
    },
    {
      "cell_type": "markdown",
      "metadata": {
        "id": "RQW3ajfJC_-I",
        "colab_type": "text"
      },
      "source": [
        "## Part 4 - Pairwise Distance Function "
      ]
    },
    {
      "cell_type": "code",
      "metadata": {
        "id": "4nvwBXHzC_-I",
        "colab_type": "code",
        "outputId": "ef7451b4-308e-4698-dd1b-7a32808d52e0",
        "colab": {
          "base_uri": "https://localhost:8080/",
          "height": 50
        }
      },
      "source": [
        "from google.colab import drive\n",
        "#import logging\n",
        "from datetime import datetime\n",
        "drive.mount('/content/drive')\n",
        "import pandas as pd\n",
        "import numpy as np\n",
        "pd.set_option('display.max_columns', None) #https://stackoverflow.com/questions/28775813/not-able-to-view-all-columns-in-pandas-data-frame\n",
        "from pandas.api.types import CategoricalDtype\n",
        "from  scipy import stats\n",
        "import itertools\n",
        "import seaborn\n",
        "import matplotlib.pyplot as plt\n",
        "from scipy.spatial.distance import pdist, squareform\n",
        "from sklearn.metrics import *\n",
        "import sys\n",
        "import json\n",
        "csv_data =  pd.read_csv('/content/drive/My Drive/house-prices-advanced-regression-techniques/train.csv',index_col='Id') #Loading content from google drive\n",
        "qual_map = {\"Ex\":10,\"Gd\":8,\"Fa\":6,\"TA\":4,\"Po\":2,np.nan:0}\n",
        "\n",
        "\n",
        "\n",
        "category_columns = ['MSZoning','Street','LotShape','Utilities','LotConfig',\n",
        "                    'LotConfig','Condition1','Condition2','BldgType',\n",
        "                    'HouseStyle','LandContour','RoofStyle','RoofMatl','Exterior1st',\n",
        "                    'Exterior2nd','MasVnrType','LandSlope','Neighborhood','Foundation','BsmtExposure','BsmtFinType1',\n",
        "                    'BsmtFinSF1','BsmtFinType2','Heating','HeatingQC','CentralAir','Electrical','GarageType',\n",
        "                   'Functional','GarageFinish','Fence','MiscFeature','SaleType','PavedDrive','SaleCondition','Alley']\n",
        " \n",
        " \n",
        "  \n",
        "  \n",
        "for column in category_columns :\n",
        "  csv_data[column] = pd.factorize(csv_data[column])[0]+1\n",
        "\n",
        "\n",
        "\n",
        "csv_data['YearBuilt'] = csv_data['YearBuilt'].apply(lambda x : (x//10)*10)\n",
        "csv_data['YearRemodAdd'] = csv_data['YearRemodAdd'].apply(lambda x : (x//10)*10)\n",
        "csv_data['ExterQual'] = csv_data['ExterQual'].apply(lambda x: qual_map[x] ) \n",
        "csv_data['ExterCond'] = csv_data['ExterCond'].apply(lambda x: qual_map[x] ) \n",
        "csv_data['BsmtQual'] = csv_data['BsmtQual'].apply(lambda x: qual_map[x] )\n",
        "csv_data['BsmtCond'] = csv_data['BsmtCond'].apply(lambda x: qual_map[x] )\n",
        "csv_data['KitchenQual'] = csv_data['KitchenQual'].apply(lambda x: qual_map[x] )\n",
        "csv_data['FireplaceQu'] = csv_data['FireplaceQu'].apply(lambda x: qual_map[x] )  \n",
        "csv_data['GarageQual'] = csv_data['GarageQual'].apply(lambda x: qual_map[x] ) \n",
        "csv_data['GarageCond'] = csv_data['GarageCond'].apply(lambda x: qual_map[x] ) \n",
        "csv_data['PoolQC'] = csv_data['PoolQC'].apply(lambda x: qual_map[x] ) \n",
        " \n",
        " \n",
        "csv_data = csv_data.fillna(0)\n",
        "\n",
        "shape = csv_data.shape\n",
        "\n",
        " \n",
        "\n",
        "      \n",
        "\n",
        "\n",
        "    \n",
        "max_cost = csv_data.loc[csv_data['SalePrice'].idxmax()].values.tolist()\n",
        "min_cost = csv_data.loc[csv_data['SalePrice'].idxmin()].values.tolist()\n",
        "plot_values = []\n",
        "\n",
        "\n",
        "\n",
        "\n",
        "random_data_points = np.random.choice(shape[0],2)\n",
        "\n",
        "diff = []  \n",
        "for idx,num in enumerate(random_data_points):\n",
        "\n",
        "  row_vector = csv_data.iloc[num,:].values.tolist()  \n",
        "\n",
        "  diff_1 = 10000\n",
        "  diff_2 = 10000\n",
        "\n",
        "\n",
        "\n",
        "  for i,ele in enumerate(row_vector) :\n",
        "    if row_vector[i] != max_cost[i] :\n",
        "      diff_1 -= 40\n",
        "\n",
        "    if row_vector[i] != min_cost[i] :\n",
        "      diff_2 -= 40 \n",
        "\n",
        "  diff.append([diff_1,diff_2])\n",
        "\n",
        "\n",
        "\n",
        "\n",
        "print(\"Distance between {} {} is {} \".format(random_data_points[0],random_data_points[1],pdist(diff,'euclidean')))\n",
        "#print(csv_data.iloc[random_data_points[0],:])\n",
        "#print(csv_data.iloc[random_data_points[1],:])\n",
        "  \n",
        "    "
      ],
      "execution_count": 24,
      "outputs": [
        {
          "output_type": "stream",
          "text": [
            "Drive already mounted at /content/drive; to attempt to forcibly remount, call drive.mount(\"/content/drive\", force_remount=True).\n",
            "Distance between 905 33 is [268.3281573] \n"
          ],
          "name": "stdout"
        }
      ]
    },
    {
      "cell_type": "markdown",
      "metadata": {
        "id": "9QZNBb0OC_-K",
        "colab_type": "text"
      },
      "source": [
        "The pairwise distance function was a simple function that computed as follows :\n",
        "1. Fetch the houses that have the highest selling price and the lowest selling price.\n",
        "2. Compare the feature of each house with that of the one with the highest selling price with that of the lowest selling price.\n",
        "3. Assign the houses a score X and score Y\n",
        "4. A difference in feature with the highest selling home will result in a deduction from score X, a difference in feature from the lowest selling home will result in deduction from score Y.\n",
        "5. These form our co-ordinates of scores that reflect a pairwise distance.\n",
        "6. This formula will perform well if the houses if closer to the Maximum or Minimum SalePrice and has more features in common.\n"
      ]
    },
    {
      "cell_type": "markdown",
      "metadata": {
        "id": "gBmLGfvtC_-K",
        "colab_type": "text"
      },
      "source": [
        "## Part 5 - Clustering "
      ]
    },
    {
      "cell_type": "code",
      "metadata": {
        "id": "f_Ybtl-rC_-L",
        "colab_type": "code",
        "outputId": "ca1c7f3c-cdbc-4c79-b8bf-a5d414dd1b50",
        "colab": {
          "base_uri": "https://localhost:8080/",
          "height": 302
        }
      },
      "source": [
        "from google.colab import drive\n",
        "#import logging\n",
        "from datetime import datetime\n",
        "drive.mount('/content/drive')\n",
        "import pandas as pd\n",
        "import numpy as np\n",
        "pd.set_option('display.max_columns', None) #https://stackoverflow.com/questions/28775813/not-able-to-view-all-columns-in-pandas-data-frame\n",
        "from pandas.api.types import CategoricalDtype\n",
        "from  scipy import stats\n",
        "import itertools\n",
        "import seaborn\n",
        "import matplotlib.pyplot as plt\n",
        "from scipy.spatial.distance import *\n",
        "from sklearn.metrics import *\n",
        "import sys\n",
        "from sklearn.cluster import KMeans\n",
        "\n",
        "csv_data =  pd.read_csv('/content/drive/My Drive/house-prices-advanced-regression-techniques/train.csv',index_col='Id') #Loading content from google drive\n",
        "qual_map = {\"Ex\":10,\"Gd\":8,\"Fa\":6,\"TA\":4,\"Po\":2,np.nan:0}\n",
        "\n",
        "\n",
        "\n",
        "category_columns = ['MSZoning','Street','LotShape','Utilities','LotConfig',\n",
        "                    'LotConfig','Condition1','Condition2','BldgType',\n",
        "                    'HouseStyle','LandContour','RoofStyle','RoofMatl','Exterior1st',\n",
        "                    'Exterior2nd','MasVnrType','LandSlope','Neighborhood','Foundation','BsmtExposure','BsmtFinType1',\n",
        "                    'BsmtFinSF1','BsmtFinType2','Heating','HeatingQC','CentralAir','Electrical','GarageType',\n",
        "                   'Functional','GarageFinish','Fence','MiscFeature','SaleType','PavedDrive','SaleCondition','Alley']\n",
        " \n",
        " \n",
        "  \n",
        "for column in category_columns :\n",
        "  csv_data[column] = pd.factorize(csv_data[column])[0]+1\n",
        "\n",
        "\n",
        "csv_data['YearBuilt'] = csv_data['YearBuilt'].apply(lambda x : (x//10)*10)\n",
        "csv_data['YearRemodAdd'] = csv_data['YearRemodAdd'].apply(lambda x : (x//10)*10)\n",
        "csv_data['ExterQual'] = csv_data['ExterQual'].apply(lambda x: qual_map[x] ) \n",
        "csv_data['ExterCond'] = csv_data['ExterCond'].apply(lambda x: qual_map[x] ) \n",
        "csv_data['BsmtQual'] = csv_data['BsmtQual'].apply(lambda x: qual_map[x] )\n",
        "csv_data['BsmtCond'] = csv_data['BsmtCond'].apply(lambda x: qual_map[x] )\n",
        "csv_data['KitchenQual'] = csv_data['KitchenQual'].apply(lambda x: qual_map[x] )\n",
        "csv_data['FireplaceQu'] = csv_data['FireplaceQu'].apply(lambda x: qual_map[x] )  \n",
        "csv_data['GarageQual'] = csv_data['GarageQual'].apply(lambda x: qual_map[x] ) \n",
        "csv_data['GarageCond'] = csv_data['GarageCond'].apply(lambda x: qual_map[x] ) \n",
        "csv_data['PoolQC'] = csv_data['PoolQC'].apply(lambda x: qual_map[x] ) \n",
        " \n",
        " \n",
        "csv_data = csv_data.fillna(0)\n",
        "\n",
        "shape = csv_data.shape\n",
        "\n",
        "         \n",
        "max_cost =csv_data.loc[csv_data['SalePrice'].idxmax()].values.tolist()\n",
        "min_cost = csv_data.loc[csv_data['SalePrice'].idxmin()].values.tolist()\n",
        "plot_values = []\n",
        "\n",
        "for row1 in range (0,shape[0]):\n",
        "\n",
        "  row_vector = csv_data.iloc[row1,:].values.tolist()  \n",
        "\n",
        "  diff_1 = 10000\n",
        "  diff_2 = 10000\n",
        "  \n",
        "  \n",
        "  \n",
        "  for i,ele in enumerate(row_vector) :\n",
        "    if row_vector[i] != max_cost[i] :\n",
        "      diff_1 -= 40\n",
        "      \n",
        "    if row_vector[i] != min_cost[i] :\n",
        "      diff_2 -= 40 \n",
        "  \n",
        "  \n",
        "  plot_values.append([diff_1,diff_2]) \n",
        "\n",
        "\n",
        "plot_values = pd.DataFrame(plot_values,columns=['x','y'])\n",
        "\n",
        "plot_values = plot_values.replace(-np.Inf,1000000000)\n",
        "\n",
        "\n",
        "kmeans = KMeans(n_clusters=10,n_jobs=20,max_iter=500)\n",
        "kmeans.fit(plot_values)\n",
        "centroids = kmeans.cluster_centers_\n",
        "labels = kmeans.labels_\n",
        "\n",
        "plt.scatter(plot_values['x'], plot_values['y'], c= kmeans.labels_.astype(float),  )\n",
        "plt.scatter(centroids[:, 0], centroids[:, 1], c='red')\n",
        "\n",
        "\n",
        "\n",
        "\n"
      ],
      "execution_count": 0,
      "outputs": [
        {
          "output_type": "stream",
          "text": [
            "Drive already mounted at /content/drive; to attempt to forcibly remount, call drive.mount(\"/content/drive\", force_remount=True).\n"
          ],
          "name": "stdout"
        },
        {
          "output_type": "execute_result",
          "data": {
            "text/plain": [
              "<matplotlib.collections.PathCollection at 0x7f3628f686d8>"
            ]
          },
          "metadata": {
            "tags": []
          },
          "execution_count": 306
        },
        {
          "output_type": "display_data",
          "data": {
            "image/png": "[encoded data removed]",
            "text/plain": [
              "<Figure size 432x288 with 1 Axes>"
            ]
          },
          "metadata": {
            "tags": []
          }
        }
      ]
    },
    {
      "cell_type": "markdown",
      "metadata": {
        "id": "cBoBP3NAC_-N",
        "colab_type": "text"
      },
      "source": [
        "In this case the clusters capture those houses based on how far they sit from the difference in features from the lowest selling and the highest selling homes.\n",
        "\n",
        "As we can see a total of 10 clusters have been formed and cluster together those houses which are evenly distant from the Maximum Priced and the Minimum Priced home."
      ]
    },
    {
      "cell_type": "markdown",
      "metadata": {
        "id": "xSq1cRD5C_-N",
        "colab_type": "text"
      },
      "source": [
        "## Part 6 - Linear Regression"
      ]
    },
    {
      "cell_type": "code",
      "metadata": {
        "id": "qhapalnIC_-O",
        "colab_type": "code",
        "outputId": "5e4cbb95-9651-4868-ed16-f8e4e8baefec",
        "colab": {
          "base_uri": "https://localhost:8080/",
          "height": 34
        }
      },
      "source": [
        "from google.colab import drive\n",
        "#import logging\n",
        "from datetime import datetime\n",
        "#drive.mount('/content/drive')\n",
        "import pandas as pd\n",
        "import numpy as np\n",
        "pd.set_option('display.max_columns', None) #https://stackoverflow.com/questions/28775813/not-able-to-view-all-columns-in-pandas-data-frame\n",
        "from pandas.api.types import CategoricalDtype\n",
        "from  scipy import stats\n",
        "import itertools\n",
        "import seaborn\n",
        "import matplotlib.pyplot as plt\n",
        "from scipy.spatial.distance import pdist, squareform\n",
        "from sklearn.metrics import *\n",
        "import sys\n",
        "from sklearn.cluster import KMeans\n",
        "import sklearn\n",
        "\n",
        "from sklearn.model_selection import train_test_split\n",
        "from sklearn.feature_extraction.text import CountVectorizer\n",
        "from sklearn.metrics import *\n",
        "from sklearn import preprocessing\n",
        "\n",
        "from sklearn.preprocessing import LabelEncoder\n",
        "from sklearn.preprocessing import OneHotEncoder\n",
        "from sklearn.linear_model import LinearRegression\n",
        "\n",
        "csv_data =  pd.read_csv('/content/drive/My Drive/house-prices-advanced-regression-techniques/train.csv',index_col='Id') #Loading content from google drive\n",
        "qual_map = {\"Ex\":10,\"Gd\":8,\"Fa\":6,\"TA\":4,\"Po\":2,\"NA\":0}\n",
        "\n",
        "\n",
        "csv_data = csv_data.loc[:,['LotArea','LotFrontage','OverallQual','OverallCond',\n",
        "                           'YearBuilt','Utilities','1stFlrSF','2ndFlrSF','MasVnrArea',\n",
        "                           'YearRemodAdd','YrSold','BsmtQual','BsmtCond','ExterQual',\n",
        "                           'ExterCond','HeatingQC','GrLivArea','Street',\n",
        "                           'BedroomAbvGr','GarageCars','GarageArea','HouseStyle',\n",
        "                           'BldgType','SalePrice']]\n",
        "\n",
        "csv_data['LotFrontage'] = csv_data['LotFrontage'].fillna(0)\n",
        "csv_data['BsmtQual'] = csv_data['BsmtQual'].fillna('NA')\n",
        "csv_data['BsmtCond'] = csv_data['BsmtCond'].fillna('NA')\n",
        "csv_data['MasVnrArea'] = csv_data['MasVnrArea'].fillna(0)\n",
        "csv_data['BsmtQual'] = csv_data['BsmtQual'].apply(lambda x: qual_map[x] ) \n",
        "csv_data['BsmtCond'] = csv_data['BsmtCond'].apply(lambda x: qual_map[x] ) \n",
        "csv_data['ExterQual'] = csv_data['ExterQual'].apply(lambda x: qual_map[x] ) \n",
        "csv_data['ExterCond'] = csv_data['ExterCond'].apply(lambda x: qual_map[x] ) \n",
        "csv_data['HeatingQC'] = csv_data['HeatingQC'].apply(lambda x: qual_map[x] ) \n",
        "csv_data = pd.get_dummies(csv_data,prefix_sep=\"_\",columns=['HouseStyle','BldgType','Utilities','Street'])\n",
        "\n",
        "predictions = csv_data.pop('SalePrice')\n",
        "x_train, x_test, y_train, y_test = train_test_split(csv_data, predictions, test_size=.8)\n",
        "\n",
        "regr = LinearRegression()\n",
        "regr.fit(x_train, y_train)\n",
        "preds = regr.predict(x_test)\n",
        "\n",
        "\n",
        "\n",
        "print(\"Accuracy Score: \"+str(r2_score(preds,y_test)))\n",
        "\n",
        "\n",
        "\n",
        "\n"
      ],
      "execution_count": 0,
      "outputs": [
        {
          "output_type": "stream",
          "text": [
            "Accuracy Score: 0.7389323028964749\n"
          ],
          "name": "stdout"
        }
      ]
    },
    {
      "cell_type": "markdown",
      "metadata": {
        "id": "ooWvaLeLC_-Q",
        "colab_type": "text"
      },
      "source": [
        "The Linder regression model works with an accuracy of 73%. The following is to be noted :\n",
        "\n",
        "\n",
        "1.   House quality contributes a lot more to the predictions of the price.\n",
        "2.   Basement Area / LotArea also seem to contribute positively to the price predictions, removing these values adversely affected the performance of the model\n",
        "3.  Year built positively contributed to the predictions, removing this value also adversely affected the performance of the model.\n",
        "\n",
        "\n",
        "\n",
        "\n"
      ]
    },
    {
      "cell_type": "markdown",
      "metadata": {
        "id": "-_gNeY3XC_-Q",
        "colab_type": "text"
      },
      "source": [
        "## Part 7 - External Dataset "
      ]
    },
    {
      "cell_type": "code",
      "metadata": {
        "id": "34HJ4FYMC_-R",
        "colab_type": "code",
        "outputId": "2c15a1c8-fe6c-405f-9cfc-38260d38222b",
        "colab": {
          "base_uri": "https://localhost:8080/",
          "height": 138
        }
      },
      "source": [
        "from google.colab import drive\n",
        "#import logging\n",
        "from datetime import datetime\n",
        "drive.mount('/content/drive')\n",
        "import pandas as pd\n",
        "import numpy as np\n",
        "pd.set_option('display.max_columns', None) #https://stackoverflow.com/questions/28775813/not-able-to-view-all-columns-in-pandas-data-frame\n",
        "from pandas.api.types import CategoricalDtype\n",
        "from  scipy import stats\n",
        "import itertools\n",
        "import seaborn\n",
        "import matplotlib.pyplot as plt\n",
        "from scipy.spatial.distance import pdist, squareform\n",
        "from sklearn.metrics import *\n",
        "import sys\n",
        "from sklearn.cluster import KMeans\n",
        "import sklearn\n",
        "\n",
        "from sklearn.model_selection import train_test_split\n",
        "from sklearn.feature_extraction.text import CountVectorizer\n",
        "from sklearn.metrics import *\n",
        "from sklearn import preprocessing\n",
        "\n",
        "from sklearn.preprocessing import LabelEncoder\n",
        "from sklearn.preprocessing import OneHotEncoder\n",
        "from sklearn.linear_model import LinearRegression\n",
        "\n",
        "csv_data =  pd.read_csv('/content/drive/My Drive/house-prices-advanced-regression-techniques/train.csv',index_col='Id') #Loading content from google drive\n",
        "\n",
        "ext_data =  pd.read_csv('/content/drive/My Drive/house-prices-advanced-regression-techniques/ownership.csv') #Loading content from google drive\n",
        "\n",
        "ext_data['DATE'] = ext_data['DATE'].apply(lambda x : int(x.split('/')[2])//10*10)\n",
        "\n",
        "\n",
        "ext_data = ext_data.groupby('DATE')['ownership_rate'].mean().reset_index()\n",
        "\n",
        "\n",
        "\n",
        "csv_data['decadesold'] = csv_data['YrSold'].apply(lambda x : int(x)//10*10)   \n",
        "\n",
        "csv_data['ownsership_rate'] = csv_data['decadesold']\n",
        "\n",
        "\n",
        "ownership_map = {}\n",
        "\n",
        "for data,value in ext_data.iterrows() :\n",
        "    ownership_map[value[0]] = value[1]\n",
        "\n",
        " \n",
        "\n",
        "  \n",
        "\n",
        "\n",
        "  \n",
        "csv_data['ownsership_rate'] = csv_data['ownsership_rate'].apply(lambda x : ownership_map[x]  )\n",
        "\n",
        "\n",
        "\n",
        "\n",
        "\n",
        "  \n",
        "category_columns = ['MSZoning','Street','LotShape','Utilities',\n",
        "                    'LotConfig','Condition1','Condition2','BldgType',\n",
        "                    'HouseStyle','LandContour','RoofStyle','RoofMatl','Exterior1st',\n",
        "                    'Exterior2nd','MasVnrType','LandSlope','Neighborhood','Foundation','BsmtExposure','BsmtFinType1',\n",
        "                    'BsmtFinSF1','BsmtFinType2','Heating','CentralAir','Electrical','GarageType',\n",
        "                   'Functional','GarageFinish','Fence','MiscFeature','SaleType','PavedDrive','SaleCondition','Alley']\n",
        " \n",
        "\n",
        "\n",
        "\n",
        "\n",
        "\n",
        "qual_map = {\"Ex\":10,\"Gd\":8,\"Fa\":6,\"TA\":4,\"Po\":2,\"NA\":0}\n",
        "csv_data['LotFrontage'] = csv_data['LotFrontage'].fillna(0)\n",
        "csv_data['BsmtQual'] = csv_data['BsmtQual'].fillna('NA')\n",
        "csv_data['BsmtCond'] = csv_data['BsmtCond'].fillna('NA')\n",
        "csv_data['GarageCond'] = csv_data['GarageCond'].fillna('NA')\n",
        "csv_data['GarageQual'] = csv_data['GarageQual'].fillna('NA')\n",
        "csv_data['MasVnrArea'] = csv_data['MasVnrArea'].fillna(0)\n",
        "csv_data['BsmtQual'] = csv_data['BsmtQual'].apply(lambda x: qual_map[x] ) \n",
        "csv_data['BsmtCond'] = csv_data['BsmtCond'].apply(lambda x: qual_map[x] ) \n",
        "csv_data['ExterQual'] = csv_data['ExterQual'].apply(lambda x: qual_map[x] ) \n",
        "csv_data['ExterCond'] = csv_data['ExterCond'].apply(lambda x: qual_map[x] ) \n",
        "csv_data['HeatingQC'] = csv_data['HeatingQC'].apply(lambda x: qual_map[x] )\n",
        "csv_data['GarageQual'] = csv_data['GarageQual'].apply(lambda x: qual_map[x] ) \n",
        "csv_data['GarageCond'] = csv_data['GarageCond'].apply(lambda x: qual_map[x] ) \n",
        "csv_data['KitchenQual'] = csv_data['KitchenQual'].apply(lambda x: qual_map[x] ) \n",
        "\n",
        "csv_data['FireplaceQu'] = csv_data['FireplaceQu'].fillna('NA')\n",
        "csv_data['FireplaceQu'] = csv_data['FireplaceQu'].apply(lambda x: qual_map[x] ) \n",
        "\n",
        "\n",
        "csv_data['PoolQC'] = csv_data['PoolQC'].fillna('NA')\n",
        "csv_data['PoolQC'] = csv_data['PoolQC'].apply(lambda x: qual_map[x] ) \n",
        "  \n",
        "\n",
        "\n",
        "  \n",
        "for column in category_columns :\n",
        "  csv_data[column] = pd.factorize(csv_data[column])[0]+1  \n",
        "  \n",
        "\n",
        "\n",
        "\n",
        "csv_data = csv_data.fillna(0)\n",
        "\n",
        "predictions = csv_data.pop('SalePrice')\n",
        "x_train, x_test, y_train, y_test = train_test_split(csv_data, predictions, test_size=.8)\n",
        "\n",
        "regr = LinearRegression()\n",
        "regr.fit(x_train, y_train)\n",
        "preds = regr.predict(x_test)\n",
        "\n",
        "\n",
        "print(\"Accuracy Score: \"+str(r2_score(preds,y_test)))"
      ],
      "execution_count": 1,
      "outputs": [
        {
          "output_type": "stream",
          "text": [
            "Go to this URL in a browser: https://accounts.google.com/o/oauth2/auth?client_id=947318989803-6bn6qk8qdgf4n4g3pfee6491hc0brc4i.apps.googleusercontent.com&redirect_uri=urn%3Aietf%3Awg%3Aoauth%3A2.0%3Aoob&scope=email%20https%3A%2F%2Fwww.googleapis.com%2Fauth%2Fdocs.test%20https%3A%2F%2Fwww.googleapis.com%2Fauth%2Fdrive%20https%3A%2F%2Fwww.googleapis.com%2Fauth%2Fdrive.photos.readonly%20https%3A%2F%2Fwww.googleapis.com%2Fauth%2Fpeopleapi.readonly&response_type=code\n",
            "\n",
            "Enter your authorization code:\n",
            "··········\n",
            "Mounted at /content/drive\n",
            "Accuracy Score: 0.7038730256474941\n"
          ],
          "name": "stdout"
        }
      ]
    },
    {
      "cell_type": "markdown",
      "metadata": {
        "id": "NZ2SCx39C_-T",
        "colab_type": "text"
      },
      "source": [
        "A data set from Fred at the following link was integrated \"https://fred.stlouisfed.org/series/IAHOWN\" . It contains information of the home ownership rate at a time. The data was further refined and the decade value was picked up for this data set and mapped to the YearSold column in our test dataset. This home ownership rate helped better identify the possibility of a house being sold if the demand in that decade is high.\n",
        "\n",
        "\n",
        "It makes more sense to have a field that is indicative of the number of people in percentage living in homes, this indicates a well performing hosuing market and the likelyhood of a house being sold and the cost. Higher the demand in an era higher its cost.\n",
        "\n",
        "\n",
        "\n"
      ]
    },
    {
      "cell_type": "markdown",
      "metadata": {
        "id": "0CMXxLn8C_-T",
        "colab_type": "text"
      },
      "source": [
        "## Part 8 - Permutation Test "
      ]
    },
    {
      "cell_type": "code",
      "metadata": {
        "id": "efaFCRgmC_-U",
        "colab_type": "code",
        "outputId": "e2c22cdd-c2ca-472e-a792-b1d73de58395",
        "colab": {
          "base_uri": "https://localhost:8080/",
          "height": 437
        }
      },
      "source": [
        "from google.colab import drive\n",
        "#import logging\n",
        "from datetime import datetime\n",
        "drive.mount('/content/drive')\n",
        "import pandas as pd\n",
        "import numpy as np\n",
        "pd.set_option('display.max_columns', None) #https://stackoverflow.com/questions/28775813/not-able-to-view-all-columns-in-pandas-data-frame\n",
        "from pandas.api.types import CategoricalDtype\n",
        "from  scipy import stats\n",
        "import itertools\n",
        "import seaborn\n",
        "import matplotlib.pyplot as plt\n",
        "from scipy.spatial.distance import pdist, squareform\n",
        "from sklearn.metrics import *\n",
        "import sys\n",
        "from sklearn.cluster import KMeans\n",
        "import sklearn\n",
        "\n",
        "from sklearn.model_selection import train_test_split,permutation_test_score\n",
        "from sklearn.feature_extraction.text import CountVectorizer\n",
        "from sklearn.metrics import *\n",
        "from sklearn import preprocessing\n",
        "\n",
        "from sklearn.preprocessing import LabelEncoder\n",
        "from sklearn.preprocessing import OneHotEncoder\n",
        "from sklearn.linear_model import LinearRegression\n",
        "\n",
        "csv_data =  pd.read_csv('/content/drive/My Drive/house-prices-advanced-regression-techniques/train.csv',index_col='Id') #Loading content from google drive\n",
        "test_data =  pd.read_csv('/content/drive/My Drive/house-prices-advanced-regression-techniques/test.csv',index_col='Id') #Loading content from google drive\n",
        "\n",
        "qual_map = {\"Ex\":10,\"Gd\":8,\"Fa\":6,\"TA\":4,\"Po\":2,\"NA\":0}\n",
        "\n",
        "\n",
        "\n",
        "\n",
        "csv_data['LotFrontage'] = csv_data['LotFrontage'].fillna(0)\n",
        "csv_data['BsmtQual'] = csv_data['BsmtQual'].fillna('NA')\n",
        "csv_data['BsmtCond'] = csv_data['BsmtCond'].fillna('NA')\n",
        "csv_data['MasVnrArea'] = csv_data['MasVnrArea'].fillna(0)\n",
        "csv_data['BsmtQual'] = csv_data['BsmtQual'].apply(lambda x: qual_map[x] ) \n",
        "csv_data['BsmtCond'] = csv_data['BsmtCond'].apply(lambda x: qual_map[x] ) \n",
        "csv_data['ExterQual'] = csv_data['ExterQual'].apply(lambda x: qual_map[x] ) \n",
        "csv_data['ExterCond'] = csv_data['ExterCond'].apply(lambda x: qual_map[x] ) \n",
        "csv_data['HeatingQC'] = csv_data['HeatingQC'].apply(lambda x: qual_map[x] ) \n",
        "\n",
        "csv_data = csv_data.fillna(0)\n",
        "\n",
        "\n",
        "\n",
        "test_data['LotFrontage'] = test_data['LotFrontage'].fillna(0)\n",
        "test_data['BsmtQual'] = test_data['BsmtQual'].fillna('NA')\n",
        "test_data['BsmtCond'] = test_data['BsmtCond'].fillna('NA')\n",
        "test_data['MasVnrArea'] = test_data['MasVnrArea'].fillna(0)\n",
        "test_data['BsmtQual'] = test_data['BsmtQual'].apply(lambda x: qual_map[x] ) \n",
        "test_data['BsmtCond'] = test_data['BsmtCond'].apply(lambda x: qual_map[x] ) \n",
        "test_data['ExterQual'] = test_data['ExterQual'].apply(lambda x: qual_map[x] ) \n",
        "test_data['ExterCond'] = test_data['ExterCond'].apply(lambda x: qual_map[x] ) \n",
        "test_data['HeatingQC'] = test_data['HeatingQC'].apply(lambda x: qual_map[x] ) \n",
        "test_data = test_data.fillna(0) \n",
        "\n",
        "feature_column  = ['LotFrontage','BsmtQual','BsmtCond','MasVnrArea','BsmtQual','ExterQual','ExterCond','HeatingQC']\n",
        "\n",
        "rms = [] \n",
        "prdict_data = csv_data.pop('SalePrice')\n",
        "\n",
        "for column in feature_column :\n",
        "\n",
        "  x_train, x_test, y_train, y_test = train_test_split(csv_data[column].values.reshape(-1,1),prdict_data.values.reshape(-1,1),test_size=0.25)\n",
        "\n",
        "  regressor = LinearRegression()\n",
        "  \n",
        "  regressor.fit(x_train, y_train)\n",
        "  predictions = regressor.predict(x_test)\n",
        "\n",
        "  \n",
        "  difference = np.log(y_test) - np.log(predictions)\n",
        "  difference = difference**2\n",
        "  difference = np.sqrt(difference.mean())\n",
        "\n",
        "  rms.append(diff)\n",
        "\n",
        "  score, pscores, pvalues = permutation_test_score(regressor,x_train,y_train,cv=2, n_permutations=150)\n",
        "  \n",
        "  print(\"For feature {} the actual score is {} and the pvalue is {} \".format(column,difference,pvalues))\n",
        "  print(\"\\n\")\n"
      ],
      "execution_count": 23,
      "outputs": [
        {
          "output_type": "stream",
          "text": [
            "Drive already mounted at /content/drive; to attempt to forcibly remount, call drive.mount(\"/content/drive\", force_remount=True).\n",
            "For feature LotFrontage the actual score is 0.3992954605676762 and the pvalue is 0.006622516556291391 \n",
            "\n",
            "\n",
            "For feature BsmtQual the actual score is 0.33163560163547295 and the pvalue is 0.006622516556291391 \n",
            "\n",
            "\n",
            "For feature BsmtCond the actual score is 0.399063935413795 and the pvalue is 0.006622516556291391 \n",
            "\n",
            "\n",
            "For feature MasVnrArea the actual score is 0.32413515825336303 and the pvalue is 0.006622516556291391 \n",
            "\n",
            "\n",
            "For feature BsmtQual the actual score is 0.3434027503513522 and the pvalue is 0.006622516556291391 \n",
            "\n",
            "\n",
            "For feature ExterQual the actual score is 0.32058419007242217 and the pvalue is 0.006622516556291391 \n",
            "\n",
            "\n",
            "For feature ExterCond the actual score is 0.4513499794180524 and the pvalue is 0.013245033112582781 \n",
            "\n",
            "\n",
            "For feature HeatingQC the actual score is 0.3846595356775622 and the pvalue is 0.006622516556291391 \n",
            "\n",
            "\n"
          ],
          "name": "stdout"
        }
      ]
    },
    {
      "cell_type": "markdown",
      "metadata": {
        "id": "K0vjgejBC_-V",
        "colab_type": "text"
      },
      "source": [
        "The linear regression was performed for 10 features and along with that a ptest was performed such that the feature values were randomly shuffled.\n",
        "\n",
        "To compare how this performs for each feature the actual score was at least 30%, with the ptest however the pvalues denoted the score lower than .01 in most cases.\n",
        "\n",
        "\n",
        "This implied that the fields on which we tested our model actually mattered in the training process."
      ]
    },
    {
      "cell_type": "markdown",
      "metadata": {
        "id": "SERzveLjC_-W",
        "colab_type": "text"
      },
      "source": [
        "## Part 9 - Final Result"
      ]
    },
    {
      "cell_type": "code",
      "metadata": {
        "id": "7l1ztSmNi_dx",
        "colab_type": "code",
        "outputId": "045f4ec5-8c05-454d-eed5-3fc12e963d8f",
        "colab": {
          "base_uri": "https://localhost:8080/",
          "height": 34
        }
      },
      "source": [
        "from google.colab import drive\n",
        "#import logging\n",
        "from datetime import datetime\n",
        "drive.mount('/content/drive')\n",
        "import pandas as pd\n",
        "import numpy as np\n",
        "pd.set_option('display.max_columns', None) #https://stackoverflow.com/questions/28775813/not-able-to-view-all-columns-in-pandas-data-frame\n",
        "from pandas.api.types import CategoricalDtype\n",
        "from  scipy import stats\n",
        "import itertools\n",
        "import seaborn\n",
        "import matplotlib.pyplot as plt\n",
        "from scipy.spatial.distance import pdist, squareform\n",
        "from sklearn.metrics import *\n",
        "import sys\n",
        "from sklearn.cluster import KMeans\n",
        "import sklearn\n",
        "\n",
        "from sklearn.model_selection import train_test_split\n",
        "from sklearn.feature_extraction.text import CountVectorizer\n",
        "from sklearn.metrics import *\n",
        "from sklearn import preprocessing\n",
        "\n",
        "from sklearn.preprocessing import LabelEncoder\n",
        "from sklearn.preprocessing import OneHotEncoder\n",
        "from sklearn.linear_model import LinearRegression\n",
        "\n",
        "csv_data =  pd.read_csv('/content/drive/My Drive/house-prices-advanced-regression-techniques/train.csv',index_col='Id') #Loading content from google drive\n",
        "test_data = pd.read_csv('/content/drive/My Drive/house-prices-advanced-regression-techniques/test.csv',index_col='Id')\n",
        "qual_map = {\"Ex\":10,\"Gd\":8,\"Fa\":6,\"TA\":4,\"Po\":2,np.nan:0}\n",
        "\n",
        "\n",
        "\n",
        "category_columns = ['MSZoning','Street','LotShape','Utilities',\n",
        "                    'LotConfig','Condition1','Condition2','BldgType',\n",
        "                    'HouseStyle','LandContour','RoofStyle','RoofMatl','Exterior1st',\n",
        "                    'Exterior2nd','MasVnrType','LandSlope','Neighborhood','Foundation','BsmtExposure','BsmtFinType1',\n",
        "                    'BsmtFinSF1','BsmtFinType2','Heating','CentralAir','Electrical','GarageType',\n",
        "                   'Functional','GarageFinish','Fence','MiscFeature','SaleType','PavedDrive','SaleCondition','Alley']\n",
        " \n",
        "\n",
        "\n",
        "  \n",
        "  \n",
        "for column in category_columns :\n",
        "  csv_data[column] = pd.factorize(csv_data[column])[0]+1\n",
        "  test_data[column] = pd.factorize(test_data[column])[0]+1\n",
        "  #data = csv_data.pop(column)\n",
        "  #test_data.pop(column) \n",
        "  \n",
        "csv_data['YearBuilt'] = csv_data['YearBuilt'].apply(lambda x : (x//10)*10)\n",
        "csv_data['YearRemodAdd'] = csv_data['YearRemodAdd'].apply(lambda x : (x//10)*10)\n",
        "csv_data['ExterQual'] = csv_data['ExterQual'].apply(lambda x: qual_map[x] ) \n",
        "csv_data['ExterCond'] = csv_data['ExterCond'].apply(lambda x: qual_map[x] ) \n",
        "csv_data['BsmtQual'] = csv_data['BsmtQual'].apply(lambda x: qual_map[x] )\n",
        "csv_data['BsmtCond'] = csv_data['BsmtCond'].apply(lambda x: qual_map[x] )\n",
        "csv_data['KitchenQual'] = csv_data['KitchenQual'].apply(lambda x: qual_map[x] )\n",
        "csv_data['FireplaceQu'] = csv_data['FireplaceQu'].apply(lambda x: qual_map[x] )  \n",
        "csv_data['GarageQual'] = csv_data['GarageQual'].apply(lambda x: qual_map[x] ) \n",
        "csv_data['GarageCond'] = csv_data['GarageCond'].apply(lambda x: qual_map[x] ) \n",
        "csv_data['PoolQC'] = csv_data['PoolQC'].apply(lambda x: qual_map[x] ) \n",
        "csv_data['HeatingQC'] = csv_data['HeatingQC'].apply(lambda x: qual_map[x] )  \n",
        " \n",
        "csv_data = csv_data.fillna(0)\n",
        "\n",
        "\n",
        "#Formatting the test data\n",
        "test_data['YearBuilt'] = test_data['YearBuilt'].apply(lambda x : (x//10)*10)\n",
        "test_data['YearRemodAdd'] = test_data['YearRemodAdd'].apply(lambda x : (x//10)*10)\n",
        "test_data['ExterQual'] = test_data['ExterQual'].apply(lambda x: qual_map[x] ) \n",
        "test_data['ExterCond'] = test_data['ExterCond'].apply(lambda x: qual_map[x] ) \n",
        "test_data['BsmtQual'] = test_data['BsmtQual'].apply(lambda x: qual_map[x] )\n",
        "test_data['BsmtCond'] = test_data['BsmtCond'].apply(lambda x: qual_map[x] )\n",
        "test_data['KitchenQual'] = test_data['KitchenQual'].apply(lambda x: qual_map[x] )\n",
        "test_data['FireplaceQu'] = test_data['FireplaceQu'].apply(lambda x: qual_map[x] )  \n",
        "test_data['GarageQual'] = test_data['GarageQual'].apply(lambda x: qual_map[x] ) \n",
        "test_data['GarageCond'] = test_data['GarageCond'].apply(lambda x: qual_map[x] ) \n",
        "test_data['PoolQC'] = test_data['PoolQC'].apply(lambda x: qual_map[x] ) \n",
        "test_data['HeatingQC'] = test_data['HeatingQC'].apply(lambda x: qual_map[x] )\n",
        "\n",
        "\n",
        "\n",
        "\n",
        "predictions = csv_data.pop('SalePrice')\n",
        "\n",
        "\n",
        "csv_data = csv_data.fillna(0)\n",
        "test_data = test_data.fillna(0)\n",
        "\n",
        "from sklearn.linear_model import  LinearRegression\n",
        "\n",
        "clf = LinearRegression()\n",
        "clf.fit(csv_data, predictions)\n",
        "preds = clf.predict(test_data)\n",
        "\n",
        "\n",
        "prediction = pd.DataFrame({\n",
        "    \"Id\" : list(test_data.index),\n",
        "    \"SalePrice\" : list(preds)\n",
        "})\n",
        "\n",
        "\n",
        "f = open('/content/drive/My Drive/response_2.csv','w')\n",
        "prediction.to_csv(r'/content/drive/My Drive/response_2.csv',index=False)\n"
      ],
      "execution_count": 0,
      "outputs": [
        {
          "output_type": "stream",
          "text": [
            "Drive already mounted at /content/drive; to attempt to forcibly remount, call drive.mount(\"/content/drive\", force_remount=True).\n"
          ],
          "name": "stdout"
        }
      ]
    },
    {
      "cell_type": "markdown",
      "metadata": {
        "id": "ieeO8Kq5C_-Y",
        "colab_type": "text"
      },
      "source": [
        "Kaggle Link: https://www.kaggle.com/virajkcs"
      ]
    },
    {
      "cell_type": "markdown",
      "metadata": {
        "id": "6qCuwkHyC_-Y",
        "colab_type": "text"
      },
      "source": [
        "Highest Rank: 3621"
      ]
    },
    {
      "cell_type": "markdown",
      "metadata": {
        "id": "IO15bvMSC_-b",
        "colab_type": "text"
      },
      "source": [
        "Score: 0.17303\n",
        "\n"
      ]
    },
    {
      "cell_type": "markdown",
      "metadata": {
        "id": "1VjbcnOdC_-b",
        "colab_type": "text"
      },
      "source": [
        "Number of entries: 6"
      ]
    },
    {
      "cell_type": "markdown",
      "metadata": {
        "id": "p1ZAUtjSC_-d",
        "colab_type": "text"
      },
      "source": [
        "\n",
        "\n",
        "Kaggle Ranking : https://drive.google.com/open?id=18CSAPzaunEFgnEs3sTcE_5pL9Q_WHhkj\n"
      ]
    }
  ]
}